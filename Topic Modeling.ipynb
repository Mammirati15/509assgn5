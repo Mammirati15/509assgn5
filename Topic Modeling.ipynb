{
 "cells": [
  {
   "attachments": {},
   "cell_type": "markdown",
   "id": "bce2bb89",
   "metadata": {},
   "source": [
    "# ADS 509 Assignment 5.1: Topic Modeling\n",
    "\n",
    "This notebook holds Assignment 5.1 for Module 5 in ADS 509, Applied Text Mining. Work through this notebook, writing code and answering questions where required. \n",
    "\n",
    "In this assignment you will work with a categorical corpus that accompanies `nltk`. You will build the three types of topic models described in Chapter 8 of _Blueprints for Text Analytics using Python_: NMF, LSA, and LDA. You will compare these models to the true categories. \n"
   ]
  },
  {
   "attachments": {},
   "cell_type": "markdown",
   "id": "d87e2c06",
   "metadata": {},
   "source": [
    "## General Assignment Instructions\n",
    "\n",
    "These instructions are included in every assignment, to remind you of the coding standards for the class. Feel free to delete this cell after reading it. \n",
    "\n",
    "One sign of mature code is conforming to a style guide. We recommend the [Google Python Style Guide](https://google.github.io/styleguide/pyguide.html). If you use a different style guide, please include a cell with a link. \n",
    "\n",
    "Your code should be relatively easy-to-read, sensibly commented, and clean. Writing code is a messy process, so please be sure to edit your final submission. Remove any cells that are not needed or parts of cells that contain unnecessary code. Remove inessential `import` statements and make sure that all such statements are moved into the designated cell. \n",
    "\n",
    "Make use of non-code cells for written commentary. These cells should be grammatical and clearly written. In some of these cells you will have questions to answer. The questions will be marked by a \"Q:\" and will have a corresponding \"A:\" spot for you. *Make sure to answer every question marked with a `Q:` for full credit.* \n"
   ]
  },
  {
   "cell_type": "code",
   "execution_count": 8,
   "id": "a85bce08",
   "metadata": {},
   "outputs": [],
   "source": [
    "# These libraries may be useful to you\n",
    "\n",
    "#!pip install pyLDAvis==3.4.1 --user  #You need to restart the Kernel after installation.\n",
    "# You also need a Python version => 3.9.0\n",
    "from nltk.corpus import brown\n",
    "\n",
    "import numpy as np\n",
    "import pandas as pd\n",
    "from tqdm.auto import tqdm\n",
    "\n",
    "import pyLDAvis\n",
    "import pyLDAvis.lda_model\n",
    "import pyLDAvis.gensim_models\n",
    "\n",
    "import spacy\n",
    "from sklearn.feature_extraction.text import TfidfVectorizer, CountVectorizer\n",
    "from sklearn.decomposition import NMF, TruncatedSVD, LatentDirichletAllocation\n",
    "\n",
    "from spacy.lang.en.stop_words import STOP_WORDS as stopwords\n",
    "import en_core_web_sm\n",
    "\n",
    "from collections import Counter, defaultdict\n",
    "\n",
    "nlp = en_core_web_sm.load()"
   ]
  },
  {
   "cell_type": "code",
   "execution_count": 11,
   "id": "a218df60",
   "metadata": {},
   "outputs": [
    {
     "name": "stderr",
     "output_type": "stream",
     "text": [
      "[nltk_data] Downloading package brown to\n",
      "[nltk_data]     /Users/mammajamma/nltk_data...\n",
      "[nltk_data]   Unzipping corpora/brown.zip.\n"
     ]
    },
    {
     "data": {
      "text/plain": [
       "True"
      ]
     },
     "execution_count": 11,
     "metadata": {},
     "output_type": "execute_result"
    }
   ],
   "source": [
    "# add any additional libaries you need here\n",
    "\n",
    "import nltk\n",
    "nltk.download('brown')\n"
   ]
  },
  {
   "cell_type": "code",
   "execution_count": 9,
   "id": "494de237",
   "metadata": {},
   "outputs": [],
   "source": [
    "# This function comes from the BTAP repo.\n",
    "\n",
    "def display_topics(model, features, no_top_words=5):\n",
    "    for topic, words in enumerate(model.components_):\n",
    "        total = words.sum()\n",
    "        largest = words.argsort()[::-1] # invert sort order\n",
    "        print(\"\\nTopic %02d\" % topic)\n",
    "        for i in range(0, no_top_words):\n",
    "            print(\"  %s (%2.2f)\" % (features[largest[i]], abs(words[largest[i]]*100.0/total)))"
   ]
  },
  {
   "attachments": {},
   "cell_type": "markdown",
   "id": "a30a901c",
   "metadata": {},
   "source": [
    "## Getting to Know the Brown Corpus\n",
    "\n",
    "Let's spend a bit of time getting to know what's in the Brown corpus, our NLTK example of an \"overlapping\" corpus."
   ]
  },
  {
   "cell_type": "code",
   "execution_count": 12,
   "id": "457c59ed",
   "metadata": {},
   "outputs": [
    {
     "name": "stdout",
     "output_type": "stream",
     "text": [
      "For adventure we have 29 articles.\n",
      "For belles_lettres we have 75 articles.\n",
      "For editorial we have 27 articles.\n",
      "For fiction we have 29 articles.\n",
      "For government we have 30 articles.\n",
      "For hobbies we have 36 articles.\n",
      "For humor we have 9 articles.\n",
      "For learned we have 80 articles.\n",
      "For lore we have 48 articles.\n",
      "For mystery we have 24 articles.\n",
      "For news we have 44 articles.\n",
      "For religion we have 17 articles.\n",
      "For reviews we have 17 articles.\n",
      "For romance we have 29 articles.\n",
      "For science_fiction we have 6 articles.\n"
     ]
    }
   ],
   "source": [
    "# categories of articles in Brown corpus\n",
    "for category in brown.categories() :\n",
    "    print(f\"For {category} we have {len(brown.fileids(categories=category))} articles.\")"
   ]
  },
  {
   "attachments": {},
   "cell_type": "markdown",
   "id": "23fb133c",
   "metadata": {},
   "source": [
    "Let's create a dataframe of the articles in of hobbies, editorial, government, news, and romance."
   ]
  },
  {
   "cell_type": "code",
   "execution_count": 13,
   "id": "18f50b9d",
   "metadata": {},
   "outputs": [
    {
     "data": {
      "text/plain": [
       "(166, 3)"
      ]
     },
     "execution_count": 13,
     "metadata": {},
     "output_type": "execute_result"
    }
   ],
   "source": [
    "categories = ['editorial','government','news','romance','hobbies'] \n",
    "\n",
    "category_list = []\n",
    "file_ids = []\n",
    "texts = []\n",
    "\n",
    "for category in categories : \n",
    "    for file_id in brown.fileids(categories=category) :\n",
    "        \n",
    "        # build some lists for a dataframe\n",
    "        category_list.append(category)\n",
    "        file_ids.append(file_id)\n",
    "        \n",
    "        text = brown.words(fileids=file_id)\n",
    "        texts.append(\" \".join(text))\n",
    "\n",
    "        \n",
    "        \n",
    "df = pd.DataFrame()\n",
    "df['category'] = category_list\n",
    "df['id'] = file_ids\n",
    "df['text'] = texts \n",
    "\n",
    "df.shape"
   ]
  },
  {
   "cell_type": "code",
   "execution_count": 14,
   "id": "586f47de",
   "metadata": {},
   "outputs": [],
   "source": [
    "# Let's add some helpful columns on the df\n",
    "df['char_len'] = df['text'].apply(len)\n",
    "df['word_len'] = df['text'].apply(lambda x: len(x.split()))\n"
   ]
  },
  {
   "cell_type": "code",
   "execution_count": 15,
   "id": "2128fd2d",
   "metadata": {},
   "outputs": [
    {
     "data": {
      "text/plain": [
       "<Axes: xlabel='category'>"
      ]
     },
     "execution_count": 15,
     "metadata": {},
     "output_type": "execute_result"
    },
    {
     "data": {
      "image/png": "[encoded data removed]",
      "text/plain": [
       "<Figure size 1000x600 with 1 Axes>"
      ]
     },
     "metadata": {},
     "output_type": "display_data"
    }
   ],
   "source": [
    "%matplotlib inline\n",
    "df.groupby('category').agg({'word_len': 'mean'}).plot.bar(figsize=(10,6))"
   ]
  },
  {
   "attachments": {},
   "cell_type": "markdown",
   "id": "554ffeb5",
   "metadata": {},
   "source": [
    "Now do our TF-IDF and Count vectorizations."
   ]
  },
  {
   "cell_type": "code",
   "execution_count": 16,
   "id": "21a7d247",
   "metadata": {},
   "outputs": [
    {
     "name": "stderr",
     "output_type": "stream",
     "text": [
      "/Users/mammajamma/Projects/Superstore-Analytics/.venv/lib/python3.9/site-packages/sklearn/feature_extraction/text.py:402: UserWarning: Your stop_words may be inconsistent with your preprocessing. Tokenizing the stop words generated tokens ['ll', 've'] not in stop_words.\n",
      "  warnings.warn(\n"
     ]
    },
    {
     "data": {
      "text/plain": [
       "(166, 4941)"
      ]
     },
     "execution_count": 16,
     "metadata": {},
     "output_type": "execute_result"
    }
   ],
   "source": [
    "count_text_vectorizer = CountVectorizer(stop_words=list(stopwords), min_df=5, max_df=0.7)\n",
    "count_text_vectors = count_text_vectorizer.fit_transform(df[\"text\"])\n",
    "count_text_vectors.shape"
   ]
  },
  {
   "cell_type": "code",
   "execution_count": 17,
   "id": "875deba9",
   "metadata": {},
   "outputs": [
    {
     "data": {
      "text/plain": [
       "(166, 4941)"
      ]
     },
     "execution_count": 17,
     "metadata": {},
     "output_type": "execute_result"
    }
   ],
   "source": [
    "tfidf_text_vectorizer = TfidfVectorizer(stop_words=list(stopwords), min_df=5, max_df=0.7)\n",
    "tfidf_text_vectors = tfidf_text_vectorizer.fit_transform(df['text'])\n",
    "tfidf_text_vectors.shape"
   ]
  },
  {
   "attachments": {},
   "cell_type": "markdown",
   "id": "a1062b21",
   "metadata": {},
   "source": [
    "Q: What do the two data frames `count_text_vectors` and `tfidf_text_vectors` hold? \n",
    "\n",
    "A: The two data frames, count_text_vectors and tfidf_text_vectors, both store numerical versions of the Brown corpus text so they can be used for topic modeling. The count_text_vectors data shows how many times each word is in every document, giving a count of word frequency. The tfidf_text_vectors data goes a step further by weighting each word based on how common or rare it is across all documents, which helps to display more important words. Each row represents a document, each column represents a unique word, and together they create a document-term matrices that models like NMF, LSA, and LDA use to identify topics."
   ]
  },
  {
   "attachments": {},
   "cell_type": "markdown",
   "id": "f77c3f94",
   "metadata": {},
   "source": [
    "## Fitting a Non-Negative Matrix Factorization Model\n",
    "\n",
    "In this section the code to fit a five-topic NMF model has already been written. This code comes directly from the [BTAP repo](https://github.com/blueprints-for-text-analytics-python/blueprints-text), which will help you tremendously in the coming sections. "
   ]
  },
  {
   "cell_type": "code",
   "execution_count": 18,
   "id": "d28745a3",
   "metadata": {},
   "outputs": [
    {
     "name": "stderr",
     "output_type": "stream",
     "text": [
      "/Users/mammajamma/Projects/Superstore-Analytics/.venv/lib/python3.9/site-packages/sklearn/utils/extmath.py:547: RuntimeWarning: divide by zero encountered in matmul\n",
      "  U = Q @ Uhat\n",
      "/Users/mammajamma/Projects/Superstore-Analytics/.venv/lib/python3.9/site-packages/sklearn/utils/extmath.py:547: RuntimeWarning: overflow encountered in matmul\n",
      "  U = Q @ Uhat\n",
      "/Users/mammajamma/Projects/Superstore-Analytics/.venv/lib/python3.9/site-packages/sklearn/utils/extmath.py:547: RuntimeWarning: invalid value encountered in matmul\n",
      "  U = Q @ Uhat\n"
     ]
    }
   ],
   "source": [
    "nmf_text_model = NMF(n_components=5, random_state=314)\n",
    "W_text_matrix = nmf_text_model.fit_transform(tfidf_text_vectors)\n",
    "H_text_matrix = nmf_text_model.components_"
   ]
  },
  {
   "cell_type": "code",
   "execution_count": 19,
   "id": "a67185e7",
   "metadata": {},
   "outputs": [
    {
     "name": "stdout",
     "output_type": "stream",
     "text": [
      "\n",
      "Topic 00\n",
      "  mr (0.51)\n",
      "  president (0.45)\n",
      "  kennedy (0.43)\n",
      "  united (0.42)\n",
      "  khrushchev (0.40)\n",
      "\n",
      "Topic 01\n",
      "  said (0.88)\n",
      "  didn (0.46)\n",
      "  ll (0.45)\n",
      "  thought (0.42)\n",
      "  man (0.37)\n",
      "\n",
      "Topic 02\n",
      "  state (0.39)\n",
      "  development (0.36)\n",
      "  tax (0.33)\n",
      "  sales (0.30)\n",
      "  program (0.25)\n",
      "\n",
      "Topic 03\n",
      "  mrs (2.61)\n",
      "  mr (0.78)\n",
      "  said (0.63)\n",
      "  miss (0.52)\n",
      "  car (0.51)\n",
      "\n",
      "Topic 04\n",
      "  game (1.02)\n",
      "  league (0.74)\n",
      "  ball (0.72)\n",
      "  baseball (0.71)\n",
      "  team (0.66)\n"
     ]
    }
   ],
   "source": [
    "display_topics(nmf_text_model, tfidf_text_vectorizer.get_feature_names_out())"
   ]
  },
  {
   "attachments": {},
   "cell_type": "markdown",
   "id": "fee51e9b",
   "metadata": {},
   "source": [
    "Now some work for you to do. Compare the NMF categorization to the original categories from the Brown Corpus.\n",
    "\n",
    "We are interested in the extent to which our NMF categorization agrees or disagrees with the original categories in the corpus. For each topic in your NMF model, tally the Brown categories and interpret the results. \n"
   ]
  },
  {
   "cell_type": "code",
   "execution_count": null,
   "id": "7c8c8eb0",
   "metadata": {},
   "outputs": [
    {
     "data": {
      "text/html": [
       "<div>\n",
       "<style scoped>\n",
       "    .dataframe tbody tr th:only-of-type {\n",
       "        vertical-align: middle;\n",
       "    }\n",
       "\n",
       "    .dataframe tbody tr th {\n",
       "        vertical-align: top;\n",
       "    }\n",
       "\n",
       "    .dataframe thead th {\n",
       "        text-align: right;\n",
       "    }\n",
       "</style>\n",
       "<table border=\"1\" class=\"dataframe\">\n",
       "  <thead>\n",
       "    <tr style=\"text-align: right;\">\n",
       "      <th>category</th>\n",
       "      <th>editorial</th>\n",
       "      <th>government</th>\n",
       "      <th>hobbies</th>\n",
       "      <th>news</th>\n",
       "      <th>romance</th>\n",
       "    </tr>\n",
       "    <tr>\n",
       "      <th>nmf_topic</th>\n",
       "      <th></th>\n",
       "      <th></th>\n",
       "      <th></th>\n",
       "      <th></th>\n",
       "      <th></th>\n",
       "    </tr>\n",
       "  </thead>\n",
       "  <tbody>\n",
       "    <tr>\n",
       "      <th>0</th>\n",
       "      <td>20</td>\n",
       "      <td>4</td>\n",
       "      <td>0</td>\n",
       "      <td>8</td>\n",
       "      <td>0</td>\n",
       "    </tr>\n",
       "    <tr>\n",
       "      <th>1</th>\n",
       "      <td>4</td>\n",
       "      <td>0</td>\n",
       "      <td>8</td>\n",
       "      <td>0</td>\n",
       "      <td>29</td>\n",
       "    </tr>\n",
       "    <tr>\n",
       "      <th>2</th>\n",
       "      <td>2</td>\n",
       "      <td>26</td>\n",
       "      <td>26</td>\n",
       "      <td>11</td>\n",
       "      <td>0</td>\n",
       "    </tr>\n",
       "    <tr>\n",
       "      <th>3</th>\n",
       "      <td>0</td>\n",
       "      <td>0</td>\n",
       "      <td>1</td>\n",
       "      <td>17</td>\n",
       "      <td>0</td>\n",
       "    </tr>\n",
       "    <tr>\n",
       "      <th>4</th>\n",
       "      <td>1</td>\n",
       "      <td>0</td>\n",
       "      <td>1</td>\n",
       "      <td>8</td>\n",
       "      <td>0</td>\n",
       "    </tr>\n",
       "  </tbody>\n",
       "</table>\n",
       "</div>"
      ],
      "text/plain": [
       "category   editorial  government  hobbies  news  romance\n",
       "nmf_topic                                               \n",
       "0                 20           4        0     8        0\n",
       "1                  4           0        8     0       29\n",
       "2                  2          26       26    11        0\n",
       "3                  0           0        1    17        0\n",
       "4                  1           0        1     8        0"
      ]
     },
     "execution_count": 20,
     "metadata": {},
     "output_type": "execute_result"
    }
   ],
   "source": [
    "# Your code here\n",
    "# assign each document to its strongest NMF topic\n",
    "df['nmf_topic'] = np.argmax(W_text_matrix, axis=1)\n",
    "\n",
    "# Create a cross-tabulation to see how NMF topics align with Brown categories\n",
    "topic_category_table = pd.crosstab(df['nmf_topic'], df['category'])\n",
    "\n",
    "topic_category_table\n"
   ]
  },
  {
   "attachments": {},
   "cell_type": "markdown",
   "id": "f8d4e2bc",
   "metadata": {},
   "source": [
    "Q: How does your five-topic NMF model compare to the original Brown categories? \n",
    "\n",
    "A: The NMF model grouped the documents into five main topics that roughly align with the Brown categories, though some overlap occurs.  For example, Topic 1 shows a mix of government and romance, implying some overlap in general language use across those texts.  Generally though, the NMF model captures the broad thematic similarities but not perfectly because its not separated by labels but rather by shared word similarities. "
   ]
  },
  {
   "attachments": {},
   "cell_type": "markdown",
   "id": "82e37cb5",
   "metadata": {},
   "source": [
    "## Fitting an LSA Model\n",
    "\n",
    "In this section, follow the example from the repository and fit an LSA model (called a \"TruncatedSVD\" in `sklearn`). Again fit a five-topic model and compare it to the actual categories in the Brown corpus. Use the TF-IDF vectors for your fit, as above. \n",
    "\n",
    "To be explicit, we are once again interested in the extent to which this LSA factorization agrees or disagrees with the original categories in the corpus. For each topic in your model, tally the Brown categories and interpret the results. \n"
   ]
  },
  {
   "cell_type": "code",
   "execution_count": 21,
   "id": "00b53d3d",
   "metadata": {},
   "outputs": [
    {
     "name": "stderr",
     "output_type": "stream",
     "text": [
      "/Users/mammajamma/Projects/Superstore-Analytics/.venv/lib/python3.9/site-packages/sklearn/utils/extmath.py:547: RuntimeWarning: divide by zero encountered in matmul\n",
      "  U = Q @ Uhat\n",
      "/Users/mammajamma/Projects/Superstore-Analytics/.venv/lib/python3.9/site-packages/sklearn/utils/extmath.py:547: RuntimeWarning: overflow encountered in matmul\n",
      "  U = Q @ Uhat\n",
      "/Users/mammajamma/Projects/Superstore-Analytics/.venv/lib/python3.9/site-packages/sklearn/utils/extmath.py:547: RuntimeWarning: invalid value encountered in matmul\n",
      "  U = Q @ Uhat\n"
     ]
    },
    {
     "data": {
      "text/html": [
       "<div>\n",
       "<style scoped>\n",
       "    .dataframe tbody tr th:only-of-type {\n",
       "        vertical-align: middle;\n",
       "    }\n",
       "\n",
       "    .dataframe tbody tr th {\n",
       "        vertical-align: top;\n",
       "    }\n",
       "\n",
       "    .dataframe thead th {\n",
       "        text-align: right;\n",
       "    }\n",
       "</style>\n",
       "<table border=\"1\" class=\"dataframe\">\n",
       "  <thead>\n",
       "    <tr style=\"text-align: right;\">\n",
       "      <th>category</th>\n",
       "      <th>editorial</th>\n",
       "      <th>government</th>\n",
       "      <th>hobbies</th>\n",
       "      <th>news</th>\n",
       "      <th>romance</th>\n",
       "    </tr>\n",
       "    <tr>\n",
       "      <th>lsa_topic</th>\n",
       "      <th></th>\n",
       "      <th></th>\n",
       "      <th></th>\n",
       "      <th></th>\n",
       "      <th></th>\n",
       "    </tr>\n",
       "  </thead>\n",
       "  <tbody>\n",
       "    <tr>\n",
       "      <th>0</th>\n",
       "      <td>27</td>\n",
       "      <td>30</td>\n",
       "      <td>36</td>\n",
       "      <td>34</td>\n",
       "      <td>21</td>\n",
       "    </tr>\n",
       "    <tr>\n",
       "      <th>1</th>\n",
       "      <td>0</td>\n",
       "      <td>0</td>\n",
       "      <td>0</td>\n",
       "      <td>0</td>\n",
       "      <td>8</td>\n",
       "    </tr>\n",
       "    <tr>\n",
       "      <th>3</th>\n",
       "      <td>0</td>\n",
       "      <td>0</td>\n",
       "      <td>0</td>\n",
       "      <td>3</td>\n",
       "      <td>0</td>\n",
       "    </tr>\n",
       "    <tr>\n",
       "      <th>4</th>\n",
       "      <td>0</td>\n",
       "      <td>0</td>\n",
       "      <td>0</td>\n",
       "      <td>7</td>\n",
       "      <td>0</td>\n",
       "    </tr>\n",
       "  </tbody>\n",
       "</table>\n",
       "</div>"
      ],
      "text/plain": [
       "category   editorial  government  hobbies  news  romance\n",
       "lsa_topic                                               \n",
       "0                 27          30       36    34       21\n",
       "1                  0           0        0     0        8\n",
       "3                  0           0        0     3        0\n",
       "4                  0           0        0     7        0"
      ]
     },
     "execution_count": 21,
     "metadata": {},
     "output_type": "execute_result"
    }
   ],
   "source": [
    "# Your code here\n",
    "from sklearn.decomposition import TruncatedSVD\n",
    "\n",
    "# Fit a five-topic LSA model using the same TF-IDF matrix\n",
    "lsa_text_model = TruncatedSVD(n_components=5, random_state=314)\n",
    "lsa_W = lsa_text_model.fit_transform(tfidf_text_vectors)\n",
    "\n",
    "# Assign each document to its strongest LSA topic\n",
    "df['lsa_topic'] = np.argmax(lsa_W, axis=1)\n",
    "\n",
    "# Compare LSA topics to Brown categories\n",
    "lsa_topic_table = pd.crosstab(df['lsa_topic'], df['category'])\n",
    "lsa_topic_table\n"
   ]
  },
  {
   "attachments": {},
   "cell_type": "markdown",
   "id": "4d94d56f",
   "metadata": {},
   "source": [
    "Q: How does your five-topic LSA model compare to the original Brown categories? \n",
    "\n",
    "A: The LSA model picked up on the main themes in the Brown corpus, but its results weren’t as clean or separated as the NMF model. It blended several of the categories—like news, government, and editorial—because they share a lot of the same vocabulary and tone. While it still captured the overall meaning and structure of the text, the categories overlapped more, making it harder to tell them apart compared to what I saw with NMF."
   ]
  },
  {
   "cell_type": "code",
   "execution_count": 22,
   "id": "377a886e",
   "metadata": {},
   "outputs": [
    {
     "name": "stdout",
     "output_type": "stream",
     "text": [
      "\n",
      "Topic 00\n",
      "  said (0.44)\n",
      "  mr (0.25)\n",
      "  mrs (0.22)\n",
      "  state (0.20)\n",
      "  man (0.17)\n",
      "\n",
      "Topic 01\n",
      "  said (3.89)\n",
      "  ll (2.73)\n",
      "  didn (2.63)\n",
      "  thought (2.20)\n",
      "  got (1.97)\n",
      "\n",
      "Topic 02\n",
      "  mrs (3.12)\n",
      "  mr (1.70)\n",
      "  said (1.06)\n",
      "  kennedy (0.82)\n",
      "  khrushchev (0.77)\n",
      "\n",
      "Topic 03\n",
      "  mrs (29.45)\n",
      "  club (6.53)\n",
      "  game (6.12)\n",
      "  jr (5.60)\n",
      "  university (5.20)\n",
      "\n",
      "Topic 04\n",
      "  game (4.54)\n",
      "  league (3.27)\n",
      "  baseball (3.22)\n",
      "  ball (3.10)\n",
      "  team (2.94)\n"
     ]
    }
   ],
   "source": [
    "# call display_topics on your model\n",
    "display_topics(lsa_text_model, tfidf_text_vectorizer.get_feature_names_out())\n"
   ]
  },
  {
   "attachments": {},
   "cell_type": "markdown",
   "id": "ea8b280a",
   "metadata": {},
   "source": [
    "Q: What is your interpretation of the display topics output? \n",
    "\n",
    "A: Looking at the display output, the top words for each topic show which terms carry the most weight in shaping those broader themes. Some topics are clearly more conversational, using words like “said,” “mr,” and “mrs,” while others lean toward political or formal language with words like “kennedy” and “khrushchev.” Overall, LSA highlights word patterns and shared context across documents, but it doesn’t split topics as sharply—it’s more about general relationships between ideas than distinct clusters."
   ]
  },
  {
   "attachments": {},
   "cell_type": "markdown",
   "id": "b4ab4d29",
   "metadata": {},
   "source": [
    "## Fitting an LDA Model\n",
    "\n",
    "Finally, fit a five-topic LDA model using the count vectors (`count_text_vectors` from above). Display the results using `pyLDAvis.display` and describe what you learn from that visualization. "
   ]
  },
  {
   "cell_type": "code",
   "execution_count": 27,
   "id": "802cb8ff",
   "metadata": {},
   "outputs": [],
   "source": [
    "# Fit your LDA model here\n",
    "from sklearn.decomposition import LatentDirichletAllocation\n",
    "\n",
    "# Fit a five-topic LDA model using the count vectors\n",
    "lda_text_model = LatentDirichletAllocation(n_components=5, random_state=314)\n",
    "lda_W = lda_text_model.fit_transform(count_text_vectors)\n",
    "\n",
    "\n"
   ]
  },
  {
   "cell_type": "code",
   "execution_count": 28,
   "id": "ab18adf5",
   "metadata": {},
   "outputs": [
    {
     "name": "stdout",
     "output_type": "stream",
     "text": [
      "\n",
      "Topic 00\n",
      "  said (1.05)\n",
      "  mrs (0.82)\n",
      "  little (0.56)\n",
      "  good (0.51)\n",
      "  way (0.50)\n",
      "\n",
      "Topic 01\n",
      "  state (0.67)\n",
      "  development (0.63)\n",
      "  000 (0.57)\n",
      "  program (0.48)\n",
      "  business (0.44)\n",
      "\n",
      "Topic 02\n",
      "  said (1.18)\n",
      "  mr (0.72)\n",
      "  president (0.51)\n",
      "  city (0.43)\n",
      "  state (0.37)\n",
      "\n",
      "Topic 03\n",
      "  feed (0.55)\n",
      "  college (0.54)\n",
      "  general (0.44)\n",
      "  university (0.43)\n",
      "  work (0.37)\n",
      "\n",
      "Topic 04\n",
      "  states (1.14)\n",
      "  state (1.02)\n",
      "  united (0.84)\n",
      "  shall (0.66)\n",
      "  government (0.61)\n"
     ]
    }
   ],
   "source": [
    "# Call `display_topics` on your fitted model here\n",
    "display_topics(lda_text_model, count_text_vectorizer.get_feature_names_out())"
   ]
  },
  {
   "attachments": {},
   "cell_type": "markdown",
   "id": "f2c67876",
   "metadata": {},
   "source": [
    "Q: What inference do you draw from the displayed topics for your LDA model? \n",
    "\n",
    "A: The topics from the LDA model make sense and look more distinct than those from the previous methods. Each topic groups together words that seem to describe different styles of writing — for example, one looks like casual or narrative language with words such as “said,” “mrs,” and “little,” while another includes more formal or structured terms like “state,” “development,” and “program.” This shows that LDA does a good job of separating the documents by theme and language type.\n",
    "\n",
    "Q: Repeat the tallying of Brown categories within your topics. How does your five-topic LDA model compare to the original Brown categories? \n",
    "\n",
    "A: When I compared the LDA topics to the original Brown categories, there was a clear overlap with how the texts were labeled. Topics with government or news-related vocabulary mostly aligned with those same Brown categories, while narrative or conversational topics lined up more with romance or editorial. Overall, the LDA model captured the main themes pretty accurately and separated the topics more cleanly than LSA, while still being a little less sharp than NMF in some areas."
   ]
  },
  {
   "cell_type": "code",
   "execution_count": 29,
   "id": "6aae75ca",
   "metadata": {},
   "outputs": [],
   "source": [
    "lda_display = pyLDAvis.lda_model.prepare(lda_text_model, count_text_vectors, count_text_vectorizer, sort_topics=False)"
   ]
  },
  {
   "cell_type": "code",
   "execution_count": 30,
   "id": "2a89fc15",
   "metadata": {},
   "outputs": [
    {
     "data": {
      "text/html": [
       "\n",
       "<link rel=\"stylesheet\" type=\"text/css\" href=\"https://cdn.jsdelivr.net/gh/bmabey/pyLDAvis@3.4.0/pyLDAvis/js/ldavis.v1.0.0.css\">\n",
       "\n",
       "\n",
       "<div id=\"ldavis_el67234130876242082737272201\" style=\"background-color:white;\"></div>\n",
       "<script type=\"text/javascript\">\n",
       "\n",
       "var ldavis_el67234130876242082737272201_data = {\"mdsDat\": {\"x\": [-0.24352303362204142, 0.1305571939552594, -0.05665667547392646, 0.04142748483975086, 0.12819503030095764], \"y\": [0.006829720679472939, -0.05588474470164414, 0.03852366287446897, -0.1128521523095611, 0.12338351345726323], \"topics\": [1, 2, 3, 4, 5], \"cluster\": [1, 1, 1, 1, 1], \"Freq\": [22.896957296534534, 20.43196854284182, 32.00626407252687, 12.36882561293185, 12.29598447516493]}, \"tinfo\": {\"Term\": [\"states\", \"state\", \"said\", \"mrs\", \"united\", \"shall\", \"development\", \"tax\", \"feed\", \"fiscal\", \"college\", \"government\", \"ll\", \"don\", \"000\", \"university\", \"department\", \"didn\", \"sales\", \"president\", \"rhode\", \"got\", \"equipment\", \"little\", \"mother\", \"class\", \"act\", \"program\", \"system\", \"property\", \"hair\", \"baby\", \"clothes\", \"walls\", \"anne\", \"fig\", \"pale\", \"pink\", \"dry\", \"yellow\", \"entrance\", \"hadn\", \"ham\", \"couldn\", \"frames\", \"fingers\", \"flowers\", \"windows\", \"bride\", \"hell\", \"handsome\", \"coat\", \"cloth\", \"sweet\", \"stared\", \"liked\", \"colored\", \"studio\", \"bed\", \"trees\", \"shelter\", \"mother\", \"looked\", \"clay\", \"wasn\", \"guests\", \"didn\", \"woman\", \"sat\", \"pieces\", \"colors\", \"eyes\", \"drill\", \"mrs\", \"ll\", \"don\", \"thought\", \"room\", \"sun\", \"inch\", \"ve\", \"black\", \"little\", \"knew\", \"went\", \"sure\", \"got\", \"door\", \"look\", \"son\", \"know\", \"said\", \"way\", \"come\", \"came\", \"good\", \"place\", \"away\", \"old\", \"water\", \"right\", \"man\", \"let\", \"life\", \"left\", \"house\", \"day\", \"home\", \"systems\", \"marketing\", \"electronic\", \"boats\", \"missiles\", \"components\", \"aircraft\", \"machine\", \"rhode\", \"assessment\", \"shipments\", \"laboratory\", \"bankers\", \"savings\", \"yield\", \"industrial\", \"forests\", \"compared\", \"machines\", \"procurement\", \"missile\", \"conservation\", \"utility\", \"inventories\", \"polaris\", \"manufacturing\", \"machinery\", \"investment\", \"recreation\", \"banks\", \"property\", \"industry\", \"equipment\", \"sales\", \"radiation\", \"planning\", \"development\", \"medical\", \"providence\", \"billion\", \"system\", \"shares\", \"manufacturers\", \"island\", \"1960\", \"production\", \"1959\", \"products\", \"research\", \"co\", \"range\", \"000\", \"program\", \"business\", \"cost\", \"million\", \"available\", \"state\", \"small\", \"company\", \"national\", \"1961\", \"provide\", \"areas\", \"service\", \"use\", \"military\", \"tax\", \"public\", \"khrushchev\", \"player\", \"rayburn\", \"congo\", \"republican\", \"moscow\", \"southern\", \"baseball\", \"railroad\", \"castro\", \"troops\", \"yards\", \"charter\", \"yankees\", \"premier\", \"alexander\", \"democrats\", \"captain\", \"chinese\", \"coach\", \"laos\", \"gen\", \"cuban\", \"opposition\", \"soviet\", \"katanga\", \"republicans\", \"pope\", \"bombs\", \"robinson\", \"berlin\", \"speaker\", \"communist\", \"democratic\", \"eisenhower\", \"league\", \"mayor\", \"cuba\", \"st\", \"police\", \"yesterday\", \"china\", \"west\", \"monday\", \"race\", \"john\", \"east\", \"kennedy\", \"city\", \"mr\", \"meeting\", \"party\", \"president\", \"said\", \"week\", \"war\", \"political\", \"nations\", \"game\", \"committee\", \"leaders\", \"american\", \"world\", \"york\", \"home\", \"county\", \"man\", \"united\", \"people\", \"house\", \"state\", \"day\", \"old\", \"000\", \"government\", \"men\", \"national\", \"states\", \"school\", \"academic\", \"faculty\", \"trustees\", \"campus\", \"recognition\", \"classical\", \"professors\", \"mathematics\", \"musical\", \"tends\", \"feed\", \"stockholders\", \"fulfill\", \"meat\", \"unions\", \"chemical\", \"motors\", \"prosperity\", \"cattle\", \"prestige\", \"designer\", \"curriculum\", \"clerical\", \"catholic\", \"collective\", \"recorded\", \"appearances\", \"creative\", \"membership\", \"trust\", \"music\", \"chamber\", \"students\", \"student\", \"colleges\", \"teachers\", \"college\", \"engineer\", \"interior\", \"university\", \"daily\", \"pool\", \"schools\", \"education\", \"art\", \"general\", \"anti\", \"members\", \"technical\", \"labor\", \"design\", \"administration\", \"level\", \"work\", \"school\", \"president\", \"problem\", \"board\", \"department\", \"american\", \"good\", \"men\", \"aid\", \"world\", \"high\", \"cousin\", \"rehabilitation\", \"coal\", \"vocational\", \"definition\", \"denied\", \"thereof\", \"bonds\", \"payment\", \"rico\", \"puerto\", \"coordination\", \"filing\", \"adopting\", \"recommendation\", \"calendar\", \"hated\", \"proceedings\", \"commodities\", \"sectors\", \"connections\", \"62\", \"vehicles\", \"allocation\", \"treasury\", \"tractor\", \"adjustments\", \"upstairs\", \"shall\", \"assigned\", \"india\", \"exercise\", \"interference\", \"payments\", \"fiscal\", \"authorized\", \"claim\", \"stations\", \"insurance\", \"claims\", \"class\", \"states\", \"income\", \"return\", \"tax\", \"united\", \"junior\", \"hearing\", \"act\", \"countries\", \"cars\", \"state\", \"agreement\", \"department\", \"government\", \"secretary\", \"officer\", \"section\", \"title\", \"federal\", \"use\", \"service\", \"30\", \"board\", \"services\", \"pay\", \"local\", \"day\"], \"Freq\": [328.0, 485.0, 803.0, 307.0, 298.0, 123.0, 199.0, 172.0, 93.0, 107.0, 120.0, 273.0, 167.0, 178.0, 282.0, 122.0, 153.0, 124.0, 117.0, 297.0, 86.0, 147.0, 105.0, 237.0, 97.0, 97.0, 127.0, 230.0, 142.0, 95.0, 35.266031697679516, 35.259854572870864, 32.3428239171505, 32.338808089183956, 34.23407300433102, 31.32761923162943, 26.498517625454504, 25.52477104102502, 23.57323677816412, 25.427138253320578, 21.619428115149063, 30.993044678951506, 19.675700186736577, 51.43981707238506, 20.589733305570057, 17.726312752092987, 23.30504081082284, 16.751973310918505, 17.67796618496799, 15.781789493525489, 15.780666162782104, 15.765038139000263, 14.807347406646533, 14.80685767925679, 14.806525243898381, 14.805562659021431, 15.721341674975072, 14.793031300690544, 34.14874849426122, 27.742455010304514, 57.204169859252545, 90.0598580171451, 78.93387784968836, 75.71076669182486, 53.90723878296297, 29.982839371430053, 108.73073941993073, 50.25085074519487, 34.934191866446355, 48.29752376267051, 27.14174620759286, 83.99183249657628, 31.32831148326815, 234.33243224195593, 134.73682388828456, 142.22532063651997, 113.48998687104935, 84.70739288661443, 47.851073173593456, 58.28164360651551, 69.82209572678249, 54.447334924203105, 159.9387345606826, 71.32903793545304, 100.47914727932304, 70.80739412891508, 101.54763550743229, 56.56434544201619, 89.14937958191949, 57.94278765631483, 112.80221967394915, 300.1915799527014, 143.08214720581648, 108.6678552840922, 97.93192846288215, 146.72016490751125, 107.63695959300975, 81.83857826579676, 125.33252753578007, 93.65427756652967, 105.8066298945461, 122.43392673750739, 76.37882747857951, 81.85609009063361, 81.25833894745304, 87.71132897871968, 85.95109916972224, 84.11085690371308, 37.620339176968784, 41.26043043714817, 26.10850412689409, 38.01490066718643, 22.240995977940415, 21.223514374686573, 54.24848359225266, 50.394700061919096, 82.33814930496472, 17.22632723406708, 13.599502717078888, 16.290888590985354, 10.740632157231776, 17.005387252552136, 15.133342494227234, 72.03843499106016, 14.938223060271941, 24.574363297207967, 28.9081738712334, 17.448867762039555, 36.584742597938316, 7.854789008100241, 11.322258118599873, 6.910963131905757, 6.906977941612571, 18.16721140781805, 30.179415379306565, 24.918058009903813, 32.62393120086366, 16.267831354180654, 85.04409531611381, 85.23076408361702, 92.0406186753771, 102.2103074033812, 31.419941862258206, 72.29354736159635, 160.58456695669358, 84.12221117794036, 39.27101304252791, 47.15352590830224, 110.99031567699492, 32.52656888050935, 35.56961213374262, 88.5138715566951, 93.20958887097937, 63.84974612826227, 50.27196273949968, 49.696057546593096, 72.6346942154107, 46.82621040883037, 53.98496787689069, 144.6286663472727, 123.50896845655342, 113.19861054790825, 73.61038906890631, 79.16133829903114, 74.66204969189857, 169.46520342296193, 100.42960965644957, 76.12853270707201, 92.20105914345217, 67.16061893470135, 66.5012565002118, 62.63129522802722, 86.66947068148025, 95.41631280398123, 65.253893525583, 67.84173831149523, 65.6136414531939, 73.42554374783127, 48.67768498296597, 46.706427838363275, 43.73337493489189, 39.77817876808448, 37.80010747839433, 34.82722841019425, 39.61877024477502, 32.84180904847268, 29.88139792837257, 26.912817657012972, 26.899591011392978, 27.86029549757162, 25.925615833025628, 24.935202646112863, 24.927860722599345, 23.946196773271843, 23.938724665538547, 22.949710429481573, 22.940661109611252, 49.61478194372413, 21.955319680146985, 20.974708622899172, 20.956960655847777, 78.9274395697849, 19.982341472209377, 19.972841684788595, 19.967439518925552, 18.996535964167776, 18.994551077568094, 63.224259726459266, 40.66068656369518, 70.96278176057123, 59.00465760184148, 38.646633209979264, 57.99120476200705, 43.21771150153901, 36.7462556619408, 71.47530467432678, 44.379150265041744, 58.02965358273175, 32.828237255154946, 96.08418538831437, 58.465154170308566, 40.50565929609294, 142.98368478351736, 83.8542012142747, 111.14875577393512, 172.62353200026385, 287.87814236030124, 84.13213702614433, 92.01772270153545, 205.40634873734925, 470.8902208582249, 140.7626514325603, 113.01139950261611, 71.0503823362003, 67.16518889885636, 73.87620209973888, 83.76171945290795, 50.00246714063652, 148.64615016805456, 138.13586962558114, 96.83009236355007, 140.02404620727475, 76.8335005155333, 129.58037547484764, 125.62152536157647, 118.3621020472283, 110.56501449328206, 148.84517946191266, 119.60071243642435, 108.76991140081128, 105.30536803757703, 99.52164947706429, 90.46561781119061, 91.5784925449439, 96.15786407278706, 83.8443699495095, 27.814826569302735, 48.93684709004364, 18.503509985385932, 14.879468477087528, 15.473941152164208, 9.37335260705385, 8.429864173735837, 7.546272419664445, 18.41492046315914, 7.518959799427062, 84.4415543610448, 18.268486568333206, 6.622128289059254, 19.54171382466308, 18.587130254335683, 23.146111999202606, 38.25197181315953, 4.773288678682466, 17.381566736920426, 10.23881677383221, 14.802706325018866, 7.011676741661478, 4.663272913791535, 25.479595882435856, 10.014582060857418, 7.582398158918705, 4.54001504132863, 12.853649254073652, 19.425628383036564, 29.706978723474922, 46.8250108783508, 21.450400541392373, 52.994368401958845, 54.95528137360888, 16.311008295185978, 25.620730698223504, 83.62014229713958, 24.94167590234574, 28.633459492336417, 67.01241734256206, 33.33126174189965, 43.627376544116984, 49.32037920830758, 46.41828570415837, 34.85619603196481, 67.6689962592197, 32.10381351159162, 51.62302814445519, 31.17793699600278, 33.895493042174095, 35.04082063901765, 44.493279558924506, 35.22883442674116, 56.48861252778217, 47.16711951156323, 55.68778966133456, 39.64150536052145, 42.71566054538539, 38.01482404768189, 43.01510978367152, 42.902561785702254, 38.25715440917864, 34.06878160168497, 37.62879650451345, 34.84607073269685, 24.89538173911795, 17.608710471055932, 22.617152720693515, 12.988354717680904, 12.081651178952182, 17.255761258059323, 11.043916669732521, 28.5043913079422, 36.751871727233585, 17.29261904159074, 17.289973715259773, 6.586201822372035, 15.531276371536112, 5.669749860722195, 16.069958421934807, 20.125736782358192, 5.626627615289116, 6.416436823858589, 14.343171489794283, 4.761534756745241, 5.547238482984915, 5.53250883375727, 35.56950814402412, 10.223530392476125, 22.866566967658525, 19.499373411737245, 10.913572827235177, 5.430408333634545, 101.1673393785033, 9.141628146127218, 29.604377811543017, 21.94557072459193, 28.494458626329266, 31.902747941397294, 82.24350507900915, 23.619992267391172, 32.8236881447561, 43.57399739685015, 25.757310222259765, 22.213358197218597, 63.5251554441681, 175.30239292056737, 50.03986268624493, 41.161012434359925, 86.65875331991775, 128.3923792638744, 39.91034171743861, 33.815786827705026, 65.0107752835125, 47.42060534620199, 40.209279592813665, 156.29426259716956, 38.83917469224594, 66.04762002987178, 93.49618556474644, 54.83909075025211, 32.98378789632146, 41.66456800174188, 29.98997040790957, 43.23305137556878, 57.377520893862645, 52.70114914664676, 42.224181185310506, 42.52715360133014, 36.829108002786285, 37.09681062937635, 36.74442128741964, 37.17615767602708], \"Total\": [328.0, 485.0, 803.0, 307.0, 298.0, 123.0, 199.0, 172.0, 93.0, 107.0, 120.0, 273.0, 167.0, 178.0, 282.0, 122.0, 153.0, 124.0, 117.0, 297.0, 86.0, 147.0, 105.0, 237.0, 97.0, 97.0, 127.0, 230.0, 142.0, 95.0, 36.02603912499986, 36.02588883819036, 33.10322172299765, 33.10319945151621, 35.05056255948612, 32.128537874832716, 27.25759589658223, 26.283381057698207, 24.334723323645928, 26.284575607309364, 22.386171312703564, 32.134917729304725, 20.43764235373043, 53.485417657861355, 21.413009212119377, 18.488977697815802, 24.31987835813564, 17.514841028502055, 18.48997788651864, 16.540707205667314, 16.540683839194852, 16.54015211825249, 15.56643207582317, 15.566368553159581, 15.566439385894089, 15.56640853615906, 16.541123102771518, 15.566128130021562, 35.96189057796926, 29.216873363902366, 60.42030248595258, 97.50813665440423, 85.71452146351677, 82.76557482881312, 58.48806964583604, 32.150436434493216, 124.77305109139078, 55.495934070275936, 37.8963918407653, 53.44875378566884, 29.186855354435654, 98.42108266493297, 34.108659255171254, 307.9971583578142, 167.834227125137, 178.18542278378126, 139.82171036116083, 103.42674442190594, 54.562238116231995, 68.76954856434931, 84.83647160041038, 64.26201397041544, 237.7527797142564, 90.5197363342037, 137.70593095628735, 91.77444009129967, 147.7937685617617, 70.06214294099415, 129.8665751690667, 73.99592681862175, 191.48072080434147, 803.8548070648295, 274.85427260577245, 186.07372334983492, 163.15899799670473, 306.4340359076893, 190.1554441273065, 123.89985251249689, 254.84946828941256, 162.71698521260242, 213.5733828440322, 283.0153604519204, 121.95636925526733, 161.530177161579, 163.20991301290175, 234.12184367687414, 302.3464743334503, 268.5137641979603, 38.38900181276883, 42.219751146557165, 26.870239511488485, 39.32530511253748, 23.031355908186345, 22.069023878838742, 56.676640666140926, 52.83541185825133, 86.46800449904788, 18.221477632163282, 14.390064081926615, 17.262361508112324, 11.511442662430955, 18.237457198455758, 16.292903446551136, 78.46760127905368, 16.284197226960195, 26.802268957257585, 31.64526338081065, 19.147274411366567, 40.189557722273285, 8.631750433563738, 12.458169098970648, 7.671836647717206, 7.671950307157876, 20.188446423100263, 33.58228715547515, 27.75816573167878, 36.44648449277573, 18.17983889287439, 95.59958109020086, 96.93212392160396, 105.6575802606285, 117.78573708942227, 35.55944348942251, 85.01192732215917, 199.0011368393309, 101.02292341395626, 45.14381488359436, 54.90118963074976, 142.66262791524002, 37.275769525790764, 41.99097586369721, 120.33277045687886, 129.7781845158142, 84.83256378608142, 63.72708403807199, 62.844187236680135, 102.98876739202457, 59.70895018137997, 72.90815716855997, 282.9442741244361, 230.32157269786688, 209.32374748162172, 115.94033775080972, 128.99304695412943, 119.7157257981743, 485.5254739281199, 211.37539248235058, 138.53740854960466, 215.73422314818586, 114.9180153752055, 112.93575546782293, 99.90679935398617, 203.5790903421852, 253.44869724604663, 123.30539886857126, 172.8096418311656, 200.80538207395298, 74.1813261160513, 49.44169052826695, 47.46260119923945, 44.49359036010497, 40.53551399617139, 38.55638985076477, 35.5875278284355, 40.524089011304056, 33.60786999510345, 30.63965223281024, 27.670894341231325, 27.670809878218453, 28.65913593377032, 26.681481371686964, 25.691806203590648, 25.6916783254787, 24.702282074756575, 24.70215427298781, 23.712487033002052, 23.71193932275297, 51.34436129166912, 22.72241627183325, 21.733411082028493, 21.732251919217543, 81.9311636578414, 20.743599793201977, 20.742911377657396, 20.74332961345866, 19.754257834892876, 19.754312772549593, 66.10674015267467, 42.43698376216303, 74.99667222533031, 62.13038324129469, 40.45277924173404, 61.207324272859445, 45.37927277280931, 38.47958552212631, 78.0399664895098, 47.29725623534737, 63.027230870364704, 34.52865293710652, 108.3411986273915, 64.00922906655562, 43.340703141696395, 171.40817645781524, 96.5076636516503, 132.04188079153846, 217.90548917781652, 392.85663935368353, 99.38191347480668, 110.41190710132187, 297.08938591194294, 803.8548070648295, 190.95279899715123, 148.12895827305647, 84.3318674127212, 80.65436811910895, 91.54281280787272, 111.05863796939242, 55.26520309710715, 262.8761488078902, 256.0899824588553, 148.46972078147334, 268.5137641979603, 105.84498183835278, 283.0153604519204, 298.7240339741693, 265.6177234105348, 234.12184367687414, 485.5254739281199, 302.3464743334503, 254.84946828941256, 282.9442741244361, 273.10491963972134, 193.4951872205605, 215.73422314818586, 328.0876630034329, 171.68266645156058, 28.587671191002844, 50.75235104005459, 19.380805810593966, 15.693304333758867, 16.633414863075185, 10.165631588135174, 9.245712123820615, 8.322226888959044, 20.348539793129603, 8.322341294361447, 93.52912134200888, 20.350673528278257, 7.401195317063826, 22.202972880525103, 21.26355699827256, 26.864176614307734, 44.466850734734585, 5.559156794388767, 20.42984832479429, 12.080566726948886, 17.616166085442188, 8.344571664079314, 5.563614525856889, 30.74006234011108, 12.097121988775958, 9.309062259927503, 5.575810965371235, 15.790102910241004, 24.236359627179432, 37.14065807513551, 59.64261324812842, 27.08108297787433, 68.974386988663, 71.68275492289156, 20.46714171356444, 33.34760135025243, 120.9997516669564, 32.58028930812071, 39.896080519574824, 122.31078776847792, 52.49852760150613, 75.23212830270073, 89.45812584148686, 84.56146294600376, 57.493258352735694, 198.00621277778865, 57.79720640203337, 140.21994582812474, 57.24356765830148, 68.34216300022531, 74.72871037779421, 131.40907157119446, 82.98496450235832, 256.97786239275575, 171.68266645156058, 297.08938591194294, 117.3628247872546, 173.0251476470949, 153.0306200256715, 262.8761488078902, 306.4340359076893, 193.4951872205605, 99.6473969184224, 256.0899824588553, 217.960932031602, 25.719900356958135, 18.37920616005879, 23.8849950962222, 13.79580136359658, 12.877393873437699, 18.395872134442147, 11.965555537317117, 31.301788527830087, 40.52555344944818, 19.305747619464775, 19.30538173564198, 7.373665018594348, 17.51611079447865, 6.456504867903868, 18.38654313683199, 23.075914689335143, 6.4593709563274135, 7.374057915469398, 16.59345163924975, 5.5388189951715745, 6.462219526241359, 6.457204216744043, 41.582448440815774, 11.963052970316328, 26.870254060738812, 23.091351462145603, 12.931560935207864, 6.471692815484685, 123.04949327572986, 11.129093826135732, 36.087265967704184, 26.77461259555282, 35.19197255344372, 39.791548185353285, 107.51555928474957, 29.573704296915572, 42.54665994150669, 57.80855935459395, 33.291642037189206, 28.658975142612597, 97.16968285832576, 328.0876630034329, 79.94285226747928, 64.5651679999191, 172.8096418311656, 298.7240339741693, 62.79076549191271, 50.5516807396649, 127.86759220361668, 82.87435176840475, 65.84647973719711, 485.5254739281199, 64.8787473979784, 153.0306200256715, 273.10491963972134, 119.84296064796648, 52.25627453052497, 81.4956681210072, 44.580643004256046, 112.6380460193118, 253.44869724604663, 203.5790903421852, 114.38793137157595, 173.0251476470949, 93.3865762453041, 103.89058589990493, 128.42114372832097, 302.3464743334503], \"Category\": [\"Default\", \"Default\", \"Default\", \"Default\", \"Default\", \"Default\", \"Default\", \"Default\", \"Default\", \"Default\", \"Default\", \"Default\", \"Default\", \"Default\", \"Default\", \"Default\", \"Default\", \"Default\", \"Default\", \"Default\", \"Default\", \"Default\", \"Default\", \"Default\", \"Default\", \"Default\", \"Default\", \"Default\", \"Default\", \"Default\", \"Topic1\", \"Topic1\", \"Topic1\", \"Topic1\", \"Topic1\", \"Topic1\", \"Topic1\", \"Topic1\", \"Topic1\", \"Topic1\", \"Topic1\", \"Topic1\", \"Topic1\", \"Topic1\", \"Topic1\", \"Topic1\", \"Topic1\", \"Topic1\", \"Topic1\", \"Topic1\", \"Topic1\", \"Topic1\", \"Topic1\", \"Topic1\", \"Topic1\", \"Topic1\", \"Topic1\", \"Topic1\", \"Topic1\", \"Topic1\", \"Topic1\", \"Topic1\", \"Topic1\", \"Topic1\", \"Topic1\", \"Topic1\", \"Topic1\", \"Topic1\", \"Topic1\", \"Topic1\", \"Topic1\", \"Topic1\", \"Topic1\", \"Topic1\", \"Topic1\", \"Topic1\", \"Topic1\", \"Topic1\", \"Topic1\", \"Topic1\", \"Topic1\", \"Topic1\", \"Topic1\", \"Topic1\", \"Topic1\", \"Topic1\", \"Topic1\", \"Topic1\", \"Topic1\", \"Topic1\", \"Topic1\", \"Topic1\", \"Topic1\", \"Topic1\", \"Topic1\", \"Topic1\", \"Topic1\", \"Topic1\", \"Topic1\", \"Topic1\", \"Topic1\", \"Topic1\", \"Topic1\", \"Topic1\", \"Topic1\", \"Topic1\", \"Topic1\", \"Topic1\", \"Topic2\", \"Topic2\", \"Topic2\", \"Topic2\", \"Topic2\", \"Topic2\", \"Topic2\", \"Topic2\", \"Topic2\", \"Topic2\", \"Topic2\", \"Topic2\", \"Topic2\", \"Topic2\", \"Topic2\", \"Topic2\", \"Topic2\", \"Topic2\", \"Topic2\", \"Topic2\", \"Topic2\", \"Topic2\", \"Topic2\", \"Topic2\", \"Topic2\", \"Topic2\", \"Topic2\", \"Topic2\", \"Topic2\", \"Topic2\", \"Topic2\", \"Topic2\", \"Topic2\", \"Topic2\", \"Topic2\", \"Topic2\", \"Topic2\", \"Topic2\", \"Topic2\", \"Topic2\", \"Topic2\", \"Topic2\", \"Topic2\", \"Topic2\", \"Topic2\", \"Topic2\", \"Topic2\", \"Topic2\", \"Topic2\", \"Topic2\", \"Topic2\", \"Topic2\", \"Topic2\", \"Topic2\", \"Topic2\", \"Topic2\", \"Topic2\", \"Topic2\", \"Topic2\", \"Topic2\", \"Topic2\", \"Topic2\", \"Topic2\", \"Topic2\", \"Topic2\", \"Topic2\", \"Topic2\", \"Topic2\", \"Topic2\", \"Topic3\", \"Topic3\", \"Topic3\", \"Topic3\", \"Topic3\", \"Topic3\", \"Topic3\", \"Topic3\", \"Topic3\", \"Topic3\", \"Topic3\", \"Topic3\", \"Topic3\", \"Topic3\", \"Topic3\", \"Topic3\", \"Topic3\", \"Topic3\", \"Topic3\", \"Topic3\", \"Topic3\", \"Topic3\", \"Topic3\", \"Topic3\", \"Topic3\", \"Topic3\", \"Topic3\", \"Topic3\", \"Topic3\", \"Topic3\", \"Topic3\", \"Topic3\", \"Topic3\", \"Topic3\", \"Topic3\", \"Topic3\", \"Topic3\", \"Topic3\", \"Topic3\", \"Topic3\", \"Topic3\", \"Topic3\", \"Topic3\", \"Topic3\", \"Topic3\", \"Topic3\", \"Topic3\", \"Topic3\", \"Topic3\", \"Topic3\", \"Topic3\", \"Topic3\", \"Topic3\", \"Topic3\", \"Topic3\", \"Topic3\", \"Topic3\", \"Topic3\", \"Topic3\", \"Topic3\", \"Topic3\", \"Topic3\", \"Topic3\", \"Topic3\", \"Topic3\", \"Topic3\", \"Topic3\", \"Topic3\", \"Topic3\", \"Topic3\", \"Topic3\", \"Topic3\", \"Topic3\", \"Topic3\", \"Topic3\", \"Topic3\", \"Topic3\", \"Topic3\", \"Topic3\", \"Topic4\", \"Topic4\", \"Topic4\", \"Topic4\", \"Topic4\", \"Topic4\", \"Topic4\", \"Topic4\", \"Topic4\", \"Topic4\", \"Topic4\", \"Topic4\", \"Topic4\", \"Topic4\", \"Topic4\", \"Topic4\", \"Topic4\", \"Topic4\", \"Topic4\", \"Topic4\", \"Topic4\", \"Topic4\", \"Topic4\", \"Topic4\", \"Topic4\", \"Topic4\", \"Topic4\", \"Topic4\", \"Topic4\", \"Topic4\", \"Topic4\", \"Topic4\", \"Topic4\", \"Topic4\", \"Topic4\", \"Topic4\", \"Topic4\", \"Topic4\", \"Topic4\", \"Topic4\", \"Topic4\", \"Topic4\", \"Topic4\", \"Topic4\", \"Topic4\", \"Topic4\", \"Topic4\", \"Topic4\", \"Topic4\", \"Topic4\", \"Topic4\", \"Topic4\", \"Topic4\", \"Topic4\", \"Topic4\", \"Topic4\", \"Topic4\", \"Topic4\", \"Topic4\", \"Topic4\", \"Topic4\", \"Topic4\", \"Topic4\", \"Topic4\", \"Topic4\", \"Topic5\", \"Topic5\", \"Topic5\", \"Topic5\", \"Topic5\", \"Topic5\", \"Topic5\", \"Topic5\", \"Topic5\", \"Topic5\", \"Topic5\", \"Topic5\", \"Topic5\", \"Topic5\", \"Topic5\", \"Topic5\", \"Topic5\", \"Topic5\", \"Topic5\", \"Topic5\", \"Topic5\", \"Topic5\", \"Topic5\", \"Topic5\", \"Topic5\", \"Topic5\", \"Topic5\", \"Topic5\", \"Topic5\", \"Topic5\", \"Topic5\", \"Topic5\", \"Topic5\", \"Topic5\", \"Topic5\", \"Topic5\", \"Topic5\", \"Topic5\", \"Topic5\", \"Topic5\", \"Topic5\", \"Topic5\", \"Topic5\", \"Topic5\", \"Topic5\", \"Topic5\", \"Topic5\", \"Topic5\", \"Topic5\", \"Topic5\", \"Topic5\", \"Topic5\", \"Topic5\", \"Topic5\", \"Topic5\", \"Topic5\", \"Topic5\", \"Topic5\", \"Topic5\", \"Topic5\", \"Topic5\", \"Topic5\", \"Topic5\", \"Topic5\", \"Topic5\", \"Topic5\", \"Topic5\", \"Topic5\"], \"logprob\": [30.0, 29.0, 28.0, 27.0, 26.0, 25.0, 24.0, 23.0, 22.0, 21.0, 20.0, 19.0, 18.0, 17.0, 16.0, 15.0, 14.0, 13.0, 12.0, 11.0, 10.0, 9.0, 8.0, 7.0, 6.0, 5.0, 4.0, 3.0, 2.0, 1.0, -6.6963, -6.6965, -6.7828, -6.7829, -6.726, -6.8147, -6.9821, -7.0195, -7.0991, -7.0234, -7.1856, -6.8254, -7.2798, -6.3188, -7.2344, -7.3841, -7.1105, -7.4407, -7.3869, -7.5003, -7.5004, -7.5014, -7.5641, -7.5641, -7.5641, -7.5642, -7.5042, -7.565, -6.7285, -6.9362, -6.2126, -5.7587, -5.8906, -5.9323, -6.2719, -6.8586, -5.5703, -6.3422, -6.7057, -6.3818, -6.9581, -5.8285, -6.8147, -4.8025, -5.3559, -5.3018, -5.5275, -5.82, -6.3911, -6.1939, -6.0132, -6.262, -5.1844, -5.9919, -5.6492, -5.9992, -5.6387, -6.2238, -5.7689, -6.1997, -5.5336, -4.5548, -5.2958, -5.5709, -5.6749, -5.2707, -5.5804, -5.8544, -5.4282, -5.7196, -5.5976, -5.4516, -5.9235, -5.8542, -5.8616, -5.7851, -5.8054, -5.8271, -6.5177, -6.4254, -6.883, -6.5073, -7.0434, -7.0902, -6.1517, -6.2254, -5.7345, -7.2989, -7.5353, -7.3547, -7.7713, -7.3118, -7.4284, -5.8681, -7.4414, -6.9436, -6.7812, -7.286, -6.5457, -8.0842, -7.7185, -8.2122, -8.2128, -7.2457, -6.7381, -6.9297, -6.6602, -7.3561, -5.7021, -5.6999, -5.6231, -5.5183, -6.6978, -5.8646, -5.0665, -5.713, -6.4748, -6.2919, -5.4358, -6.6632, -6.5738, -5.6621, -5.6104, -5.9888, -6.2278, -6.2394, -5.8598, -6.2988, -6.1566, -5.1711, -5.329, -5.4161, -5.8465, -5.7738, -5.8323, -5.0126, -5.5358, -5.8129, -5.6213, -5.9382, -5.9481, -6.008, -5.6832, -5.587, -5.967, -5.9281, -5.9615, -6.2979, -6.7089, -6.7502, -6.816, -6.9108, -6.9618, -7.0437, -6.9148, -7.1024, -7.1969, -7.3015, -7.302, -7.2669, -7.3389, -7.3778, -7.3781, -7.4183, -7.4186, -7.4608, -7.4612, -6.6898, -7.5051, -7.5508, -7.5517, -6.2256, -7.5993, -7.5997, -7.6, -7.6499, -7.65, -6.4474, -6.8889, -6.332, -6.5165, -6.9397, -6.5338, -6.8279, -6.9901, -6.3248, -6.8014, -6.5332, -7.1028, -6.0289, -6.5257, -6.8927, -5.6314, -6.165, -5.8833, -5.443, -4.9316, -6.1617, -6.0721, -5.2691, -4.4395, -5.647, -5.8666, -6.3307, -6.387, -6.2917, -6.1661, -6.6821, -5.5926, -5.6659, -6.0212, -5.6523, -6.2525, -5.7298, -5.7608, -5.8204, -5.8885, -5.5912, -5.81, -5.9049, -5.9373, -5.9937, -6.0892, -6.0769, -6.0281, -6.1652, -6.3178, -5.7528, -6.7254, -6.9434, -6.9042, -7.4055, -7.5116, -7.6223, -6.7302, -7.6259, -5.2073, -6.7382, -7.753, -6.6708, -6.7209, -6.5015, -5.9992, -8.0803, -6.788, -7.3172, -6.9486, -7.6958, -8.1037, -6.4055, -7.3393, -7.6175, -8.1304, -7.0897, -6.6768, -6.252, -5.797, -6.5776, -5.6732, -5.6369, -6.8515, -6.4, -5.2171, -6.4268, -6.2888, -5.4385, -6.1369, -5.8677, -5.745, -5.8057, -6.0921, -5.4287, -6.1744, -5.6994, -6.2037, -6.1201, -6.0869, -5.848, -6.0815, -5.6093, -5.7897, -5.6236, -5.9635, -5.8888, -6.0054, -5.8818, -5.8844, -5.999, -6.115, -6.0156, -6.0924, -6.4228, -6.7691, -6.5188, -7.0734, -7.1458, -6.7893, -7.2356, -6.2874, -6.0333, -6.7872, -6.7873, -7.7525, -6.8946, -7.9023, -6.8605, -6.6355, -7.91, -7.7786, -6.9742, -8.0769, -7.9242, -7.9268, -6.066, -7.3128, -6.5078, -6.6671, -7.2475, -7.9454, -5.0207, -7.4246, -6.2495, -6.5489, -6.2878, -6.1748, -5.2278, -6.4754, -6.1463, -5.863, -6.3887, -6.5368, -5.486, -4.471, -5.7246, -5.92, -5.1755, -4.7824, -5.9508, -6.1165, -5.4629, -5.7784, -5.9434, -4.5857, -5.978, -5.4471, -5.0995, -5.6331, -6.1414, -5.9078, -6.2366, -5.8709, -5.5878, -5.6728, -5.8945, -5.8873, -6.0312, -6.0239, -6.0335, -6.0218], \"loglift\": [30.0, 29.0, 28.0, 27.0, 26.0, 25.0, 24.0, 23.0, 22.0, 21.0, 20.0, 19.0, 18.0, 17.0, 16.0, 15.0, 14.0, 13.0, 12.0, 11.0, 10.0, 9.0, 8.0, 7.0, 6.0, 5.0, 4.0, 3.0, 2.0, 1.0, 1.4528, 1.4527, 1.4509, 1.4508, 1.4506, 1.4489, 1.4459, 1.4449, 1.4424, 1.441, 1.4393, 1.438, 1.4362, 1.4352, 1.435, 1.432, 1.4315, 1.4296, 1.4293, 1.4272, 1.4271, 1.4262, 1.4242, 1.4241, 1.4241, 1.4241, 1.4233, 1.4232, 1.4224, 1.4224, 1.4195, 1.3947, 1.3918, 1.3851, 1.3926, 1.4044, 1.3365, 1.3749, 1.3928, 1.3728, 1.4015, 1.3156, 1.3891, 1.2008, 1.2545, 1.2488, 1.2655, 1.2745, 1.3429, 1.3087, 1.2794, 1.3084, 1.0777, 1.2359, 1.159, 1.2148, 1.0989, 1.2602, 1.098, 1.2296, 0.945, 0.4892, 0.8213, 0.9363, 0.9637, 0.7377, 0.9051, 1.0594, 0.7645, 0.9218, 0.7718, 0.6362, 1.0062, 0.7944, 0.7768, 0.4924, 0.2164, 0.3134, 1.5678, 1.5651, 1.5593, 1.5542, 1.5532, 1.549, 1.5443, 1.5408, 1.5391, 1.5319, 1.5316, 1.5301, 1.5188, 1.5181, 1.5142, 1.5026, 1.5018, 1.5013, 1.4976, 1.4952, 1.4941, 1.4937, 1.4925, 1.4836, 1.483, 1.4826, 1.4812, 1.4801, 1.4773, 1.4769, 1.4711, 1.4594, 1.4501, 1.4462, 1.4643, 1.426, 1.3736, 1.405, 1.4487, 1.4359, 1.337, 1.4518, 1.4221, 1.281, 1.2571, 1.3039, 1.3509, 1.3533, 1.2389, 1.345, 1.2876, 0.917, 0.9649, 0.9733, 1.1338, 1.0998, 1.1159, 0.5355, 0.8439, 0.9894, 0.738, 1.0509, 1.0585, 1.1211, 0.7341, 0.6112, 0.9517, 0.6531, 0.4695, 1.129, 1.1237, 1.1232, 1.122, 1.1204, 1.1194, 1.1176, 1.1166, 1.1162, 1.1142, 1.1115, 1.111, 1.111, 1.1105, 1.1093, 1.1091, 1.1082, 1.1078, 1.1065, 1.1062, 1.105, 1.1049, 1.1037, 1.1029, 1.1019, 1.1018, 1.1014, 1.1011, 1.1001, 1.1, 1.0947, 1.0965, 1.084, 1.0876, 1.0936, 1.0853, 1.0904, 1.0931, 1.0514, 1.0756, 1.0566, 1.0887, 1.0192, 1.0486, 1.0716, 0.9579, 0.9987, 0.967, 0.9063, 0.8283, 0.9727, 0.957, 0.7702, 0.6044, 0.8343, 0.8686, 0.9679, 0.9562, 0.9248, 0.8572, 1.0392, 0.5691, 0.5219, 0.7118, 0.4882, 0.8189, 0.358, 0.273, 0.3309, 0.389, -0.0431, 0.2118, 0.2878, 0.1509, 0.1298, 0.379, 0.2824, -0.0881, 0.4226, 2.0626, 2.0536, 2.0437, 2.0367, 2.0177, 2.0088, 1.9976, 1.9921, 1.9901, 1.9885, 1.9878, 1.9821, 1.9788, 1.9623, 1.9555, 1.941, 1.9394, 1.9376, 1.9284, 1.9246, 1.916, 1.916, 1.9135, 1.9023, 1.9011, 1.8848, 1.8845, 1.8842, 1.8687, 1.8667, 1.848, 1.8569, 1.8264, 1.8243, 1.863, 1.8264, 1.7205, 1.8228, 1.7583, 1.4883, 1.6357, 1.5451, 1.4946, 1.4902, 1.5896, 1.0163, 1.502, 1.0907, 1.4824, 1.3887, 1.3326, 1.007, 1.2332, 0.575, 0.798, 0.4157, 1.0046, 0.6911, 0.6973, 0.2799, 0.1239, 0.4691, 1.0167, 0.1722, 0.2566, 2.0633, 2.0531, 2.0414, 2.0356, 2.0321, 2.0319, 2.0157, 2.0023, 1.9982, 1.9858, 1.9856, 1.983, 1.9756, 1.966, 1.9612, 1.9591, 1.9579, 1.9568, 1.9502, 1.9447, 1.9432, 1.9413, 1.9397, 1.9388, 1.9346, 1.9268, 1.9262, 1.9205, 1.9001, 1.8992, 1.8979, 1.897, 1.8848, 1.8749, 1.8279, 1.8711, 1.8364, 1.8132, 1.8393, 1.8411, 1.6709, 1.4691, 1.6274, 1.6457, 1.4057, 1.2515, 1.6427, 1.6938, 1.4195, 1.5376, 1.6027, 0.9624, 1.5828, 1.2556, 1.024, 1.3141, 1.6358, 1.425, 1.6995, 1.1383, 0.6104, 0.7445, 1.0993, 0.6926, 1.1654, 1.0661, 0.8446, -0.0]}, \"token.table\": {\"Topic\": [1, 2, 3, 4, 5, 2, 3, 2, 3, 5, 1, 2, 3, 4, 5, 1, 2, 3, 4, 5, 5, 4, 1, 2, 3, 4, 5, 2, 5, 2, 3, 4, 5, 5, 2, 3, 5, 1, 2, 3, 4, 5, 2, 3, 3, 4, 5, 1, 2, 3, 4, 5, 1, 3, 4, 5, 4, 1, 2, 3, 4, 5, 1, 2, 3, 4, 2, 3, 5, 2, 4, 5, 1, 2, 4, 5, 1, 3, 4, 5, 1, 2, 2, 5, 3, 1, 5, 3, 4, 2, 3, 1, 3, 4, 1, 2, 3, 4, 5, 2, 5, 3, 2, 5, 1, 1, 2, 3, 4, 5, 1, 2, 5, 1, 2, 3, 5, 4, 3, 2, 3, 5, 3, 3, 4, 1, 3, 4, 3, 4, 3, 2, 4, 3, 4, 3, 1, 2, 3, 5, 2, 3, 4, 5, 2, 3, 4, 5, 1, 3, 4, 5, 4, 1, 2, 3, 4, 1, 1, 1, 2, 3, 4, 3, 4, 5, 1, 3, 4, 1, 2, 3, 4, 1, 2, 3, 4, 1, 1, 2, 1, 2, 3, 4, 5, 2, 3, 4, 2, 4, 5, 2, 3, 5, 2, 3, 4, 5, 2, 5, 2, 3, 5, 2, 5, 1, 2, 3, 4, 5, 1, 5, 2, 3, 4, 5, 2, 3, 4, 5, 5, 2, 3, 4, 3, 5, 3, 2, 4, 1, 2, 3, 4, 5, 1, 2, 3, 4, 5, 5, 3, 4, 3, 2, 5, 2, 3, 4, 5, 1, 2, 4, 2, 4, 1, 2, 4, 5, 1, 3, 4, 1, 2, 3, 4, 5, 1, 3, 4, 1, 3, 1, 1, 2, 3, 5, 1, 2, 3, 4, 5, 3, 5, 2, 1, 2, 4, 1, 1, 2, 4, 1, 4, 5, 1, 3, 4, 1, 4, 2, 3, 4, 5, 1, 2, 3, 4, 1, 2, 5, 1, 2, 5, 1, 2, 5, 1, 4, 1, 2, 3, 4, 3, 1, 2, 3, 4, 5, 1, 2, 3, 4, 5, 1, 3, 2, 3, 4, 5, 1, 3, 1, 3, 1, 1, 1, 5, 3, 4, 5, 1, 1, 2, 3, 4, 5, 1, 2, 3, 4, 5, 1, 2, 3, 4, 5, 1, 2, 3, 4, 1, 2, 4, 5, 2, 3, 4, 5, 2, 4, 2, 3, 4, 5, 2, 3, 4, 5, 2, 3, 4, 5, 2, 3, 4, 5, 2, 2, 4, 1, 2, 3, 4, 5, 1, 2, 3, 4, 5, 1, 3, 4, 5, 3, 2, 3, 4, 5, 3, 1, 3, 4, 5, 1, 2, 3, 4, 5, 2, 3, 4, 5, 2, 3, 5, 1, 2, 3, 1, 3, 4, 1, 3, 4, 5, 1, 2, 3, 4, 5, 1, 2, 3, 4, 5, 1, 2, 3, 4, 5, 1, 1, 2, 3, 4, 5, 1, 3, 4, 5, 1, 2, 3, 4, 5, 1, 2, 3, 4, 5, 1, 2, 3, 5, 2, 3, 2, 3, 5, 1, 2, 4, 1, 2, 3, 4, 5, 2, 4, 2, 3, 2, 4, 3, 4, 3, 4, 5, 2, 4, 5, 1, 2, 3, 4, 1, 2, 3, 4, 2, 3, 4, 1, 2, 3, 4, 5, 2, 3, 5, 1, 2, 3, 4, 5, 2, 4, 2, 1, 3, 4, 5, 3, 1, 3, 2, 4, 1, 2, 3, 4, 5, 1, 3, 1, 4, 2, 4, 1, 2, 3, 4, 5, 2, 3, 4, 5, 2, 3, 4, 5, 1, 2, 3, 4, 5, 3, 1, 1, 3, 4, 1, 2, 3, 4, 5, 2, 5, 2, 5, 1, 2, 3, 4, 5, 1, 2, 3, 4, 1, 1, 2, 3, 4, 5, 1, 2, 4, 5, 3, 2, 3, 4, 5, 2, 3, 4, 5, 1, 2, 4, 5, 3, 3, 1, 2, 3, 4, 5, 3, 4, 2, 3, 4, 5, 5, 2, 5, 1, 2, 3, 4, 5, 1, 2, 4, 5, 4, 2, 3, 4, 5, 1, 2, 4, 5, 4, 1, 2, 3, 4, 5, 2, 3, 4, 2, 3, 4, 5, 4, 5, 3, 5, 1, 2, 3, 1, 2, 3, 4, 5, 3, 1, 4, 4, 5, 3, 4, 1, 2, 5, 5, 3, 3, 1, 2, 3, 4, 5, 1, 3, 4, 5, 2, 3, 4, 5, 1, 2, 3, 4, 5, 3, 1, 3, 5, 1, 2, 3, 4, 5, 2, 3, 4, 5, 1, 3, 4, 1, 2, 1, 2, 3, 4, 5, 1, 2, 3, 4, 5, 2, 3, 4, 5, 1, 2, 4, 5, 5, 1, 2, 3, 4, 5, 2, 3, 4, 5, 1, 2, 3, 4, 5, 2, 3, 5, 1, 3, 2, 1, 2, 3, 4, 5, 1, 3, 4, 5, 3, 3, 4, 3, 4, 5, 1, 3, 1, 1, 2, 3, 4, 5, 2, 3, 4, 5, 2, 3, 5, 2, 4, 1, 2, 3, 4, 5, 1, 2, 3, 4, 5, 1, 1, 3, 5, 1, 3, 4, 5, 1, 1, 2, 3, 4, 5, 2, 2, 4, 5, 3, 4, 5, 2, 4, 4, 5, 1, 2, 3, 4, 5, 1, 3, 4, 5, 2, 5, 3, 5, 1, 3, 3, 2, 3, 4, 5, 4, 2, 4, 5, 2, 3, 4, 5, 1, 2, 3, 4, 5, 1, 2, 3, 4, 5, 2, 4, 1, 2, 3, 5, 2, 3, 5, 5, 1, 1, 2, 3, 4, 5, 1, 3, 1, 2, 4, 5, 1, 2, 3, 4, 5, 1, 2, 3, 4, 5, 1, 3, 4, 2, 3, 5, 1, 1, 3, 4, 1, 2, 3, 4, 5, 1, 2, 3, 4, 5, 3, 3, 1, 1, 3, 4, 2, 5, 1, 2, 3, 4, 5], \"Freq\": [0.003534264840999079, 0.5124684019448664, 0.3710978083049033, 0.021205589045994473, 0.09542515070697513, 0.7845957610445329, 0.20399489787157854, 0.7166073431137221, 0.1926363825574522, 0.09246546362757704, 0.008701855812032743, 0.5830243394061937, 0.21754639530081857, 0.05221113487219645, 0.1479315488045566, 0.017484361995350993, 0.17484361995350992, 0.3933981448953973, 0.04371090498837748, 0.36717160190237086, 0.9291947100637648, 0.9794431946877926, 0.01564117979804605, 0.2189765171726447, 0.08602648888925328, 0.1798735676775296, 0.5083383434364966, 0.07733018504188224, 0.8506320354607048, 0.281563514281084, 0.3120028131222823, 0.334832287253181, 0.0684884223926961, 0.9292953575899535, 0.1541336786090848, 0.2312005179136272, 0.6011213465754307, 0.010035385077029786, 0.37130924785010205, 0.2007077015405957, 0.3412030926190127, 0.0702476955392085, 0.9527734771383518, 0.0352879065606797, 0.9730777290328769, 0.08359070234674033, 0.8359070234674033, 0.03804072771664042, 0.15216291086656167, 0.5668068429779423, 0.16357512918155379, 0.08368960097660892, 0.9700272268753704, 0.397943108876467, 0.5536599775672585, 0.034603748597953655, 0.8967305439608105, 0.06005597255439058, 0.6305877118211011, 0.18016791766317172, 0.06005597255439058, 0.06005597255439058, 0.2087201237817652, 0.0521800309454413, 0.13914674918784348, 0.6087670276968151, 0.932964951755218, 0.08985457536997171, 0.8086911783297455, 0.1352552916550662, 0.03381382291376655, 0.8115317499303971, 0.10859057916849094, 0.6264841105874477, 0.10859057916849094, 0.15870930801548677, 0.6618248394745203, 0.2905572465985699, 0.024213103883214158, 0.03228413851095221, 0.9715235662110067, 0.9555709325556463, 0.8800958080146255, 0.055005988000914094, 0.9870672228767965, 0.9454452881525884, 0.027807214357429073, 0.9530041846640811, 0.030254101100447017, 0.8560834531293223, 0.12750179089160119, 0.8403097983337434, 0.10892904793215193, 0.03112258512347198, 0.1329286540873885, 0.03467704019671004, 0.34099089526764875, 0.24851878807642197, 0.24851878807642197, 0.9662989235876278, 0.025428919041779678, 0.9618179614138379, 0.06389411257512717, 0.9264646323393441, 0.9735003530276858, 0.10987764301333924, 0.5398336374133623, 0.12898679832000692, 0.14809595362667463, 0.07165933240000386, 0.04333522694388205, 0.04333522694388205, 0.8667045388776411, 0.6006410998060878, 0.09193486221521752, 0.3003205499030439, 0.006128990814347835, 0.9558216473080525, 0.9715751806410008, 0.12149472579140395, 0.2733631330306589, 0.6074736289570197, 0.9791233846928173, 0.16265419193622666, 0.8132709596811332, 0.09789597887384895, 0.04894798943692447, 0.832115820427716, 0.18463072559118401, 0.7754490474829728, 0.9770008441533776, 0.1116728810665358, 0.8561587548434412, 0.9557279880019952, 0.028961454181878645, 0.9699530870797971, 0.06424803731573571, 0.08719376492849847, 0.7939221754015913, 0.05506974627063061, 0.09401443040415429, 0.047007215202077145, 0.07051082280311571, 0.775619050834273, 0.10467924917312711, 0.03489308305770904, 0.06978616611541807, 0.7676478272695988, 0.15436913612108966, 0.12349530889687171, 0.07203893018984184, 0.6586416474499824, 0.8853360385895116, 0.9182561730187148, 0.04832927226414288, 0.02416463613207144, 0.8986963379224978, 0.9636119521118189, 0.9666732823702409, 0.05024372377820737, 0.7871516725252488, 0.133983263408553, 0.03349581585213825, 0.9699754915419414, 0.041867289315800034, 0.9629476542634008, 0.9673429775983489, 0.16532857995940314, 0.8266428997970157, 0.18181855497153007, 0.024793439314299556, 0.09917375725719822, 0.6942163008003875, 0.09771760160699505, 0.09771760160699505, 0.048858800803497526, 0.7817408128559604, 0.9672861933612688, 0.9250739647050292, 0.03426199869277886, 0.585789320693446, 0.05374213951316018, 0.295581767322381, 0.04836792556184417, 0.016122641853948055, 0.05402551399607107, 0.756357195944995, 0.18908929898624874, 0.0602647370625786, 0.0602647370625786, 0.8437063188761004, 0.026667849927939802, 0.946708672441863, 0.026667849927939802, 0.5485882895866893, 0.2021114751108855, 0.15158360633316412, 0.09383747058719684, 0.9327568512900263, 0.0746205481032021, 0.9515599835902215, 0.988906483920265, 0.9284735647923429, 0.9268108550604942, 0.9493243837830891, 0.07762613232457265, 0.638259310224264, 0.025875377441524215, 0.04312562906920702, 0.2156281453460351, 0.9535309292383165, 0.018696684887025816, 0.1568639720565049, 0.2654621065571621, 0.012066459388961915, 0.56712359128121, 0.2456422548185363, 0.7274789854241267, 0.009447779031482166, 0.01889555806296433, 0.9720099865486697, 0.1266616190767736, 0.0633308095383868, 0.8233005239990283, 0.9615488186255144, 0.02598780590879769, 0.9662542120396851, 0.11983838598986177, 0.8388687019290324, 0.03809630653227353, 0.057144459798410284, 0.1904815326613676, 0.6285890577825132, 0.07619261306454705, 0.284441881419635, 0.09922391212312849, 0.39689564849251396, 0.09591644838569088, 0.12237615828519181, 0.9318655713989221, 0.949615903234698, 0.048285554401764304, 0.9715701540193227, 0.054360021242359266, 0.9241203611201075, 0.2613855971653898, 0.058811759362212696, 0.24831631730712028, 0.4312862353228931, 0.334543442187232, 0.1873443276248499, 0.46836081906212473, 0.11353208128826503, 0.8514906096619876, 0.010050193841931444, 0.8090406042754812, 0.055276066130622935, 0.12562742302414304, 0.8735860752508351, 0.104189164938173, 0.01602910229818046, 0.7969226538374556, 0.016836394095157515, 0.14030328412631263, 0.016836394095157515, 0.028060656825262525, 0.8135634681914454, 0.12845738971443876, 0.05709217320641723, 0.9088601157871679, 0.05863613650239793, 0.9862450326969331, 0.031085614203952384, 0.07253309980922223, 0.8703971977106668, 0.020723742802634924, 0.011825717828918645, 0.3429458170386407, 0.08278002480243052, 0.5439830201302577, 0.02365143565783729, 0.964087035082246, 0.024720180386724255, 0.9676132581134451, 0.06138680909446361, 0.15346702273615903, 0.7673351136807951, 0.9827495596585369, 0.1041098989099125, 0.87073733633745, 0.018929072529075, 0.07469762607628518, 0.07469762607628518, 0.821673886839137, 0.8534756753893021, 0.12192509648418602, 0.020320849414031002, 0.019703520713962266, 0.965472514984151, 0.32848581192234416, 0.2219498729205028, 0.07102395933456089, 0.3817537814232648, 0.06415114259503989, 0.010691857099173314, 0.02138371419834663, 0.8981159963305584, 0.9648742846864272, 0.0570902988530545, 0.913444781648872, 0.9735530159748331, 0.23252448451473665, 0.7626803092083362, 0.9457284144805722, 0.9211384381396418, 0.061409229209309454, 0.980712229279497, 0.9457931726056668, 0.07646695338815279, 0.10923850484021828, 0.8083649358176153, 0.010923850484021828, 0.9682068903592459, 0.02020138632967531, 0.22221524962642838, 0.26766836886819784, 0.34342356760448023, 0.1515103974725648, 0.4797117251175145, 0.08158362672066573, 0.21864411961138414, 0.14032383795954503, 0.08158362672066573, 0.6901508838471434, 0.31124451624479016, 0.20504940033257155, 0.3661596434510206, 0.08787831442824494, 0.34052846840944917, 0.9331133050440933, 0.06220755366960622, 0.9646827249142212, 0.031118797577878103, 0.9715195133875305, 0.9785864560032999, 0.967311881150062, 0.9288830198121031, 0.27694430323886404, 0.059345207836899436, 0.672579022151527, 0.9673105146627556, 0.2110469962265095, 0.29363060344557845, 0.2569267780148811, 0.1605792362593007, 0.07799562904023177, 0.3128331251506029, 0.08938089290017226, 0.5213885419176715, 0.04469044645008613, 0.0335178348375646, 0.3758726593724171, 0.06834048352225766, 0.4741121044356625, 0.06834048352225766, 0.017085120880564415, 0.8433965499384952, 0.04362395947957734, 0.014541319826525779, 0.08724791895915468, 0.0125089357164055, 0.2626876500445155, 0.0875625500148385, 0.625446785820275, 0.05542121150961875, 0.08313181726442812, 0.027710605754809374, 0.8313181726442812, 0.9175761566094903, 0.07646467971745752, 0.8769022751296119, 0.06189898412679614, 0.03094949206339807, 0.020632994708932047, 0.12015027662293457, 0.03003756915573364, 0.06007513831146728, 0.7809767980490747, 0.08524671344989539, 0.08524671344989539, 0.028415571149965128, 0.7956359921990236, 0.12532559426600248, 0.025065118853200497, 0.7268884467428144, 0.12532559426600248, 0.9124281865520281, 0.9006358792457585, 0.07205087033966068, 0.07479259362041484, 0.7396156480241022, 0.13296461088073747, 0.016620576360092183, 0.033241152720184367, 0.12251457564025978, 0.011668054822881883, 0.8342659198360546, 0.023336109645763766, 0.0058340274114409415, 0.01592590872504648, 0.27074044832579014, 0.07962954362523239, 0.6370363490018591, 0.9641528085474506, 0.007573354711440026, 0.8406423729698428, 0.05301348298008018, 0.09845361124872033, 0.9840751550571745, 0.7843593328405665, 0.15466240365870326, 0.011047314547050232, 0.04418925818820093, 0.590137740892805, 0.010444915768014247, 0.2872351836203918, 0.06266949460808549, 0.04700212095606411, 0.1463225563985593, 0.33654187971668637, 0.4974966917551016, 0.014632255639855929, 0.92687202689394, 0.9738167686217328, 0.019476335372434657, 0.036189136887559724, 0.05428370533133958, 0.9047284221889931, 0.016337913997711218, 0.9475990118672507, 0.016337913997711218, 0.49629338380688276, 0.4411496744950069, 0.04901663049944521, 0.018381236437291955, 0.6231736846882029, 0.008199653745897406, 0.20499134364743515, 0.10659549869666628, 0.05739757622128184, 0.08435262992491935, 0.4097127739210368, 0.03615112711067972, 0.4217631496245967, 0.04820150281423962, 0.5076450818101637, 0.04333555576428227, 0.26620412826630535, 0.14857904833468205, 0.03714476208367051, 0.963613409294549, 0.6729679467566952, 0.008412099334458691, 0.20189038402700857, 0.05047259600675214, 0.06729679467566953, 0.8043651304768971, 0.1787478067726438, 0.005958260225754793, 0.011916520451509587, 0.015573759444403205, 0.4672127833320961, 0.18688511333283844, 0.03893439861100801, 0.2881145497214593, 0.685318757995546, 0.12320337222391838, 0.10780295069592859, 0.04620126458396939, 0.03850105381997449, 0.921664131714546, 0.023333269157330278, 0.046666538314660555, 0.011666634578665139, 0.9463350098252614, 0.03785340039301045, 0.8933280768254314, 0.05955520512169542, 0.02977760256084771, 0.03160030580141701, 0.9164088682410932, 0.03160030580141701, 0.4310720089721977, 0.021200262736337593, 0.4593390259539812, 0.08126767382262744, 0.003533377122722932, 0.857327062768345, 0.1428878437947242, 0.8915990672468896, 0.04953328151371609, 0.9711094662229758, 0.9612811699009869, 0.9475691736022059, 0.04407298481870725, 0.04503901371140845, 0.900780274228169, 0.04503901371140845, 0.8314944485995289, 0.05939246061425207, 0.09898743435708678, 0.030186579178317997, 0.08049754447551466, 0.8452242169929038, 0.030186579178317997, 0.04992157113354104, 0.07131653019077291, 0.5134790173735649, 0.37084595699201917, 0.04126032190406054, 0.12378096571218161, 0.7839461161771502, 0.17054687754266518, 0.1550426159478774, 0.46512784784363226, 0.19638731353397806, 0.010336174396525162, 0.5271464234042355, 0.42982708369883815, 0.0324397799017991, 0.0077523558332225845, 0.6124361108245842, 0.16279947249767426, 0.031009423332890338, 0.18605653999734204, 0.9206371529561368, 0.07464625564509217, 0.9552194880623699, 0.03124549426959098, 0.9061193338181385, 0.01562274713479549, 0.03124549426959098, 0.9855694515768121, 0.922999896090568, 0.07178888080704417, 0.13493197518737693, 0.8545691761867205, 0.11454560135227117, 0.12981834819924065, 0.7330918486545355, 0.010181831231312994, 0.012727289039141242, 0.7597472692528924, 0.23701517374128694, 0.20119842754167985, 0.788027174538246, 0.04914357541948223, 0.8845843575506801, 0.02317666583926995, 0.4264506514425671, 0.4264506514425671, 0.11124799602849576, 0.01390599950356197, 0.14878301423524404, 0.8307051628134459, 0.01239858451960367, 0.01239858451960367, 0.019136457946611948, 0.2105010374127314, 0.13395520562628363, 0.6315031122381942, 0.49048562211653235, 0.007847769953864518, 0.4277034624856162, 0.05101050470011936, 0.023543309861593552, 0.9663057504606772, 0.9538625526127226, 0.14491190687719263, 0.8332434645438577, 0.01811398835964908, 0.07700408974214208, 0.3368928926218716, 0.12513164583098088, 0.10588062339544536, 0.3561439150574071, 0.07402736655385146, 0.9130041874975013, 0.17591675416581562, 0.8041908761865856, 0.24094777704679954, 0.14682755163789346, 0.44424746393003667, 0.12423869753975601, 0.04141289917991867, 0.8980564858907933, 0.018709510122724864, 0.018709510122724864, 0.03741902024544973, 0.9892182418587578, 0.5679563921803651, 0.08414168773042446, 0.16828337546084893, 0.0736239767641214, 0.10517710966303058, 0.023526110547062978, 0.8469399796942672, 0.05881527636765744, 0.05881527636765744, 0.9910664355618174, 0.9124146689882818, 0.9302865219297186, 0.021142875498402696, 0.021142875498402696, 0.059289568147826474, 0.841911867699136, 0.04743165451826118, 0.04743165451826118, 0.14621412750335702, 0.02658438681879219, 0.5848565100134281, 0.2392594813691297, 0.9641653665390163, 0.9730728856465544, 0.013463961318313799, 0.06731980659156898, 0.6900280175635821, 0.18849545845639318, 0.037025893625362946, 0.0827775734866177, 0.827775734866177, 0.2726587406021191, 0.23857639802685418, 0.34082342575264885, 0.15337054158869198, 0.8136632596027107, 0.8878548264764065, 0.052226754498612145, 0.04715170474025311, 0.7544272758440498, 0.011787926185063278, 0.10609133566556951, 0.08251548329544295, 0.01591237064191566, 0.7956185320957831, 0.06364948256766265, 0.1272989651353253, 0.8652659625199483, 0.5383777062110536, 0.2170877847625216, 0.09117686960025907, 0.15196144933376513, 0.010460296882017425, 0.8891252349714811, 0.010460296882017425, 0.0836823750561394, 0.8994169772377779, 0.008854591673448493, 0.593257642121049, 0.07969132506103643, 0.15938265012207287, 0.15938265012207287, 0.8639057222027757, 0.08860571509772058, 0.04430285754886029, 0.3286764493976232, 0.41333553484852614, 0.14939838608982872, 0.1095588164658744, 0.051799027529913076, 0.8805834680085223, 0.9459929587657175, 0.04614599798857159, 0.11248769967926628, 0.8717796725143137, 0.9819128675756001, 0.054863545525532936, 0.7406578645946946, 0.10972709105106587, 0.054863545525532936, 0.0411476591441497, 0.9902533534287863, 0.06011994579777589, 0.9017991869666384, 0.10877520505709379, 0.8702016404567503, 0.10742220559687049, 0.8593776447749639, 0.05487497704741404, 0.9054371212823317, 0.02743748852370702, 0.9793676529466833, 0.9867890167564677, 0.9641848068416471, 0.03883918704235079, 0.7088151635229019, 0.05825878056352618, 0.15535674816940315, 0.048548983802938483, 0.15488227336468063, 0.13939404602821256, 0.061952909345872255, 0.6350173207951906, 0.9483276557041734, 0.034694914233079514, 0.05179804583127165, 0.8805667791316181, 0.4963165287193554, 0.018728925612051146, 0.2809338841807672, 0.10300909086628131, 0.09832685946326852, 0.9618152865536391, 0.8218377217140451, 0.16436754434280904, 0.009668679078988766, 0.3732017241962024, 0.017416080462489446, 0.5859267069880377, 0.003732017241962024, 0.019904091957130794, 0.8659792137868286, 0.05093995375216639, 0.008489992292027732, 0.07640993062824959, 0.9235707754728872, 0.02638773644208249, 0.05277547288416498, 0.05483220545047663, 0.9321474926581027, 0.17474099523299488, 0.04077289888769881, 0.4892747866523857, 0.273760892531692, 0.01747409952329949, 0.01117841437648633, 0.10060572938837697, 0.25710353065918556, 0.5477423044478301, 0.08942731501189063, 0.058409771939481686, 0.3337701253684668, 0.14185230328159837, 0.4589339223816418, 0.13497649940935352, 0.26995299881870705, 0.07362354513237465, 0.5153648159266226, 0.9027195155427021, 0.009824191652680572, 0.4273523368916049, 0.2161322163589726, 0.08841772487412515, 0.2603410787960352, 0.41761890807043156, 0.11778994843012172, 0.0642490627800664, 0.3962025538104094, 0.016253622398252312, 0.04876086719475693, 0.0731413007921354, 0.04063405599563078, 0.8208079311117418, 0.8852935947349819, 0.026827078628332786, 0.10730831451333114, 0.9433915034313543, 0.04965218439112391, 0.9728935132112079, 0.3453571352024591, 0.47309196603076586, 0.10881115218707614, 0.05204011626338424, 0.014192758980922976, 0.7838269279627939, 0.16217108854402632, 0.04054277213600658, 0.01351425737866886, 0.9834906253879753, 0.9642240689991608, 0.024410735924029387, 0.9661384095953528, 0.023564351453545188, 0.023564351453545188, 0.07688368242452444, 0.9097902420235392, 0.9636114995952522, 0.008238496669676664, 0.3480764842938391, 0.30688400094545576, 0.014417369171934164, 0.3213013701173899, 0.12191863489722704, 0.2926047237533449, 0.048767453958890816, 0.5333940276753683, 0.05189542921487101, 0.19028324045452705, 0.7611329618181082, 0.0491384227952186, 0.8844916103139348, 0.11160285355390598, 0.013950356694238247, 0.05580142677695299, 0.7672696181831036, 0.05580142677695299, 0.014498135375445458, 0.11598508300356367, 0.10148694762811822, 0.7684011748986093, 0.014498135375445458, 0.9636307676968365, 0.8797293083496192, 0.091638469619752, 0.018327693923950398, 0.7736358830341793, 0.07627396029914443, 0.02179256008546984, 0.14165164055555396, 0.9636158843839899, 0.021028632682852207, 0.7780594092655316, 0.08411453073140883, 0.05607635382093922, 0.06308589804855662, 0.9898668422100143, 0.393496562341329, 0.10416085473741063, 0.503444131230818, 0.08996149283694405, 0.7796662712535151, 0.14993582139490674, 0.43673029167626476, 0.5415455616785683, 0.9612679553793546, 0.9193054150886828, 0.8081720621791846, 0.014303930304056365, 0.10012751212839455, 0.05006375606419727, 0.02860786060811273, 0.06729378039059676, 0.11215630065099459, 0.15701882091139244, 0.6729378039059676, 0.12991877088346243, 0.8228188822619288, 0.1116476231753766, 0.8559651110112206, 0.95835032213249, 0.0342267972190175, 0.9757545118362274, 0.026924671016248583, 0.10769868406499433, 0.8077401304874575, 0.053849342032497166, 0.9803513943478135, 0.0470288202524742, 0.8935475847970098, 0.0470288202524742, 0.11046985259596995, 0.42179398263915796, 0.03682328419865665, 0.4284891252207319, 0.024527681120644074, 0.08175893706881358, 0.34338753568901703, 0.5477848783610509, 0.7725953846320709, 0.24857101529640113, 0.3748293087802874, 0.07891143342742893, 0.07102029008468604, 0.22489758526817247, 0.8829547835330691, 0.08026861668482446, 0.8251168239257771, 0.023574766397879348, 0.14144859838727608, 0.011787383198939674, 0.09619443178516034, 0.04809721589258017, 0.8657498860664431, 0.9423156841257162, 0.966673932737771, 0.033754372259765374, 0.1620209868468738, 0.7628488130706975, 0.033754372259765374, 0.01350174890390615, 0.9232652116403783, 0.06839001567706506, 0.5776901524888853, 0.30113635608463174, 0.030728199600472628, 0.09218459880141788, 0.5202757033546538, 0.09459558242811886, 0.23648895607029716, 0.10551045732367104, 0.04729779121405943, 0.11521171784618989, 0.05236896265735904, 0.7384023734687625, 0.06284275518883085, 0.03142137759441543, 0.7261851345512742, 0.2469029457474332, 0.021785554036538226, 0.08307089190468457, 0.8860895136499687, 0.02769029730156152, 0.970605440970646, 0.9009669057319354, 0.07207735245855483, 0.018019338114638708, 0.2840711620848858, 0.22570037535511475, 0.1673295886253437, 0.21791760379114528, 0.1050674161135879, 0.10933656885426443, 0.17962436311772015, 0.5388730893531604, 0.14838534344507315, 0.023429264754485236, 0.9744586381020764, 0.9757574902516137, 0.951128158715557, 0.015866157947773622, 0.9202371609708702, 0.06346463179109449, 0.9206462217865278, 0.06137641478576852, 0.06735380081113375, 0.2087967825145146, 0.6533318678679974, 0.06061842073002037, 0.01347076016222675], \"Term\": [\"000\", \"000\", \"000\", \"000\", \"000\", \"1959\", \"1959\", \"1960\", \"1960\", \"1960\", \"1961\", \"1961\", \"1961\", \"1961\", \"1961\", \"30\", \"30\", \"30\", \"30\", \"30\", \"62\", \"academic\", \"act\", \"act\", \"act\", \"act\", \"act\", \"adjustments\", \"adjustments\", \"administration\", \"administration\", \"administration\", \"administration\", \"adopting\", \"agreement\", \"agreement\", \"agreement\", \"aid\", \"aid\", \"aid\", \"aid\", \"aid\", \"aircraft\", \"aircraft\", \"alexander\", \"allocation\", \"allocation\", \"american\", \"american\", \"american\", \"american\", \"american\", \"anne\", \"anti\", \"anti\", \"anti\", \"appearances\", \"areas\", \"areas\", \"areas\", \"areas\", \"areas\", \"art\", \"art\", \"art\", \"art\", \"assessment\", \"assigned\", \"assigned\", \"authorized\", \"authorized\", \"authorized\", \"available\", \"available\", \"available\", \"available\", \"away\", \"away\", \"away\", \"away\", \"baby\", \"bankers\", \"banks\", \"banks\", \"baseball\", \"bed\", \"bed\", \"berlin\", \"berlin\", \"billion\", \"billion\", \"black\", \"black\", \"black\", \"board\", \"board\", \"board\", \"board\", \"board\", \"boats\", \"boats\", \"bombs\", \"bonds\", \"bonds\", \"bride\", \"business\", \"business\", \"business\", \"business\", \"business\", \"calendar\", \"calendar\", \"calendar\", \"came\", \"came\", \"came\", \"came\", \"campus\", \"captain\", \"cars\", \"cars\", \"cars\", \"castro\", \"catholic\", \"catholic\", \"cattle\", \"cattle\", \"cattle\", \"chamber\", \"chamber\", \"charter\", \"chemical\", \"chemical\", \"china\", \"china\", \"chinese\", \"city\", \"city\", \"city\", \"city\", \"claim\", \"claim\", \"claim\", \"claim\", \"claims\", \"claims\", \"claims\", \"claims\", \"class\", \"class\", \"class\", \"class\", \"classical\", \"clay\", \"clay\", \"clay\", \"clerical\", \"cloth\", \"clothes\", \"co\", \"co\", \"co\", \"co\", \"coach\", \"coal\", \"coal\", \"coat\", \"collective\", \"collective\", \"college\", \"college\", \"college\", \"college\", \"colleges\", \"colleges\", \"colleges\", \"colleges\", \"colored\", \"colors\", \"colors\", \"come\", \"come\", \"come\", \"come\", \"come\", \"committee\", \"committee\", \"committee\", \"commodities\", \"commodities\", \"commodities\", \"communist\", \"communist\", \"communist\", \"company\", \"company\", \"company\", \"company\", \"compared\", \"compared\", \"components\", \"congo\", \"connections\", \"conservation\", \"coordination\", \"cost\", \"cost\", \"cost\", \"cost\", \"cost\", \"couldn\", \"couldn\", \"countries\", \"countries\", \"countries\", \"countries\", \"county\", \"county\", \"county\", \"county\", \"cousin\", \"creative\", \"creative\", \"creative\", \"cuba\", \"cuba\", \"cuban\", \"curriculum\", \"curriculum\", \"daily\", \"daily\", \"daily\", \"daily\", \"daily\", \"day\", \"day\", \"day\", \"day\", \"day\", \"definition\", \"democratic\", \"democratic\", \"democrats\", \"denied\", \"denied\", \"department\", \"department\", \"department\", \"department\", \"design\", \"design\", \"design\", \"designer\", \"designer\", \"development\", \"development\", \"development\", \"development\", \"didn\", \"didn\", \"didn\", \"don\", \"don\", \"don\", \"don\", \"don\", \"door\", \"door\", \"door\", \"drill\", \"drill\", \"dry\", \"east\", \"east\", \"east\", \"east\", \"education\", \"education\", \"education\", \"education\", \"education\", \"eisenhower\", \"eisenhower\", \"electronic\", \"engineer\", \"engineer\", \"engineer\", \"entrance\", \"equipment\", \"equipment\", \"equipment\", \"exercise\", \"exercise\", \"exercise\", \"eyes\", \"eyes\", \"eyes\", \"faculty\", \"faculty\", \"federal\", \"federal\", \"federal\", \"federal\", \"feed\", \"feed\", \"feed\", \"feed\", \"fig\", \"filing\", \"filing\", \"fingers\", \"fiscal\", \"fiscal\", \"flowers\", \"forests\", \"forests\", \"frames\", \"fulfill\", \"game\", \"game\", \"game\", \"game\", \"gen\", \"general\", \"general\", \"general\", \"general\", \"general\", \"good\", \"good\", \"good\", \"good\", \"good\", \"got\", \"got\", \"government\", \"government\", \"government\", \"government\", \"guests\", \"guests\", \"hadn\", \"hadn\", \"hair\", \"ham\", \"handsome\", \"hated\", \"hearing\", \"hearing\", \"hearing\", \"hell\", \"high\", \"high\", \"high\", \"high\", \"high\", \"home\", \"home\", \"home\", \"home\", \"home\", \"house\", \"house\", \"house\", \"house\", \"house\", \"inch\", \"inch\", \"inch\", \"inch\", \"income\", \"income\", \"income\", \"income\", \"india\", \"india\", \"india\", \"india\", \"industrial\", \"industrial\", \"industry\", \"industry\", \"industry\", \"industry\", \"insurance\", \"insurance\", \"insurance\", \"insurance\", \"interference\", \"interference\", \"interference\", \"interference\", \"interior\", \"interior\", \"interior\", \"interior\", \"inventories\", \"investment\", \"investment\", \"island\", \"island\", \"island\", \"island\", \"island\", \"john\", \"john\", \"john\", \"john\", \"john\", \"junior\", \"junior\", \"junior\", \"junior\", \"katanga\", \"kennedy\", \"kennedy\", \"kennedy\", \"kennedy\", \"khrushchev\", \"knew\", \"knew\", \"knew\", \"knew\", \"know\", \"know\", \"know\", \"know\", \"know\", \"labor\", \"labor\", \"labor\", \"labor\", \"laboratory\", \"laos\", \"laos\", \"leaders\", \"leaders\", \"leaders\", \"league\", \"league\", \"league\", \"left\", \"left\", \"left\", \"left\", \"let\", \"let\", \"let\", \"let\", \"let\", \"level\", \"level\", \"level\", \"level\", \"level\", \"life\", \"life\", \"life\", \"life\", \"life\", \"liked\", \"little\", \"little\", \"little\", \"little\", \"little\", \"ll\", \"ll\", \"ll\", \"ll\", \"local\", \"local\", \"local\", \"local\", \"local\", \"look\", \"look\", \"look\", \"look\", \"look\", \"looked\", \"looked\", \"looked\", \"looked\", \"machine\", \"machine\", \"machinery\", \"machinery\", \"machinery\", \"machines\", \"machines\", \"machines\", \"man\", \"man\", \"man\", \"man\", \"man\", \"manufacturers\", \"manufacturers\", \"manufacturing\", \"manufacturing\", \"marketing\", \"mathematics\", \"mayor\", \"mayor\", \"meat\", \"meat\", \"meat\", \"medical\", \"medical\", \"medical\", \"meeting\", \"meeting\", \"meeting\", \"meeting\", \"members\", \"members\", \"members\", \"members\", \"membership\", \"membership\", \"membership\", \"men\", \"men\", \"men\", \"men\", \"men\", \"military\", \"military\", \"military\", \"million\", \"million\", \"million\", \"million\", \"million\", \"missile\", \"missile\", \"missiles\", \"monday\", \"monday\", \"monday\", \"monday\", \"moscow\", \"mother\", \"mother\", \"motors\", \"motors\", \"mr\", \"mr\", \"mr\", \"mr\", \"mr\", \"mrs\", \"mrs\", \"music\", \"music\", \"musical\", \"musical\", \"national\", \"national\", \"national\", \"national\", \"national\", \"nations\", \"nations\", \"nations\", \"nations\", \"officer\", \"officer\", \"officer\", \"officer\", \"old\", \"old\", \"old\", \"old\", \"old\", \"opposition\", \"pale\", \"party\", \"party\", \"party\", \"pay\", \"pay\", \"pay\", \"pay\", \"pay\", \"payment\", \"payment\", \"payments\", \"payments\", \"people\", \"people\", \"people\", \"people\", \"people\", \"pieces\", \"pieces\", \"pieces\", \"pieces\", \"pink\", \"place\", \"place\", \"place\", \"place\", \"place\", \"planning\", \"planning\", \"planning\", \"planning\", \"player\", \"polaris\", \"police\", \"police\", \"police\", \"political\", \"political\", \"political\", \"political\", \"pool\", \"pool\", \"pool\", \"pool\", \"pope\", \"premier\", \"president\", \"president\", \"president\", \"president\", \"president\", \"prestige\", \"prestige\", \"problem\", \"problem\", \"problem\", \"problem\", \"proceedings\", \"procurement\", \"procurement\", \"production\", \"production\", \"production\", \"production\", \"production\", \"products\", \"products\", \"products\", \"products\", \"professors\", \"program\", \"program\", \"program\", \"program\", \"property\", \"property\", \"property\", \"property\", \"prosperity\", \"provide\", \"provide\", \"provide\", \"provide\", \"provide\", \"providence\", \"providence\", \"providence\", \"public\", \"public\", \"public\", \"public\", \"puerto\", \"puerto\", \"race\", \"race\", \"radiation\", \"radiation\", \"railroad\", \"range\", \"range\", \"range\", \"range\", \"range\", \"rayburn\", \"recognition\", \"recognition\", \"recommendation\", \"recommendation\", \"recorded\", \"recorded\", \"recreation\", \"recreation\", \"recreation\", \"rehabilitation\", \"republican\", \"republicans\", \"research\", \"research\", \"research\", \"research\", \"research\", \"return\", \"return\", \"return\", \"return\", \"rhode\", \"rhode\", \"rico\", \"rico\", \"right\", \"right\", \"right\", \"right\", \"right\", \"robinson\", \"room\", \"room\", \"room\", \"said\", \"said\", \"said\", \"said\", \"said\", \"sales\", \"sales\", \"sales\", \"sales\", \"sat\", \"sat\", \"sat\", \"savings\", \"savings\", \"school\", \"school\", \"school\", \"school\", \"school\", \"schools\", \"schools\", \"schools\", \"schools\", \"schools\", \"secretary\", \"secretary\", \"secretary\", \"secretary\", \"section\", \"section\", \"section\", \"section\", \"sectors\", \"service\", \"service\", \"service\", \"service\", \"service\", \"services\", \"services\", \"services\", \"services\", \"shall\", \"shall\", \"shall\", \"shall\", \"shall\", \"shares\", \"shares\", \"shares\", \"shelter\", \"shelter\", \"shipments\", \"small\", \"small\", \"small\", \"small\", \"small\", \"son\", \"son\", \"son\", \"son\", \"southern\", \"soviet\", \"soviet\", \"speaker\", \"speaker\", \"speaker\", \"st\", \"st\", \"stared\", \"state\", \"state\", \"state\", \"state\", \"state\", \"states\", \"states\", \"states\", \"states\", \"stations\", \"stations\", \"stations\", \"stockholders\", \"stockholders\", \"student\", \"student\", \"student\", \"student\", \"student\", \"students\", \"students\", \"students\", \"students\", \"students\", \"studio\", \"sun\", \"sun\", \"sun\", \"sure\", \"sure\", \"sure\", \"sure\", \"sweet\", \"system\", \"system\", \"system\", \"system\", \"system\", \"systems\", \"tax\", \"tax\", \"tax\", \"teachers\", \"teachers\", \"teachers\", \"technical\", \"technical\", \"tends\", \"thereof\", \"thought\", \"thought\", \"thought\", \"thought\", \"thought\", \"title\", \"title\", \"title\", \"title\", \"tractor\", \"tractor\", \"treasury\", \"treasury\", \"trees\", \"trees\", \"troops\", \"trust\", \"trust\", \"trust\", \"trust\", \"trustees\", \"unions\", \"unions\", \"unions\", \"united\", \"united\", \"united\", \"united\", \"university\", \"university\", \"university\", \"university\", \"upstairs\", \"use\", \"use\", \"use\", \"use\", \"use\", \"utility\", \"utility\", \"ve\", \"ve\", \"ve\", \"ve\", \"vehicles\", \"vehicles\", \"vehicles\", \"vocational\", \"walls\", \"war\", \"war\", \"war\", \"war\", \"war\", \"wasn\", \"wasn\", \"water\", \"water\", \"water\", \"water\", \"way\", \"way\", \"way\", \"way\", \"way\", \"week\", \"week\", \"week\", \"week\", \"week\", \"went\", \"went\", \"went\", \"west\", \"west\", \"west\", \"windows\", \"woman\", \"woman\", \"woman\", \"work\", \"work\", \"work\", \"work\", \"work\", \"world\", \"world\", \"world\", \"world\", \"world\", \"yankees\", \"yards\", \"yellow\", \"yesterday\", \"yesterday\", \"yesterday\", \"yield\", \"yield\", \"york\", \"york\", \"york\", \"york\", \"york\"]}, \"R\": 30, \"lambda.step\": 0.01, \"plot.opts\": {\"xlab\": \"PC1\", \"ylab\": \"PC2\"}, \"topic.order\": [1, 2, 3, 4, 5]};\n",
       "\n",
       "function LDAvis_load_lib(url, callback){\n",
       "  var s = document.createElement('script');\n",
       "  s.src = url;\n",
       "  s.async = true;\n",
       "  s.onreadystatechange = s.onload = callback;\n",
       "  s.onerror = function(){console.warn(\"failed to load library \" + url);};\n",
       "  document.getElementsByTagName(\"head\")[0].appendChild(s);\n",
       "}\n",
       "\n",
       "if(typeof(LDAvis) !== \"undefined\"){\n",
       "   // already loaded: just create the visualization\n",
       "   !function(LDAvis){\n",
       "       new LDAvis(\"#\" + \"ldavis_el67234130876242082737272201\", ldavis_el67234130876242082737272201_data);\n",
       "   }(LDAvis);\n",
       "}else if(typeof define === \"function\" && define.amd){\n",
       "   // require.js is available: use it to load d3/LDAvis\n",
       "   require.config({paths: {d3: \"https://d3js.org/d3.v5\"}});\n",
       "   require([\"d3\"], function(d3){\n",
       "      window.d3 = d3;\n",
       "      LDAvis_load_lib(\"https://cdn.jsdelivr.net/gh/bmabey/pyLDAvis@3.4.0/pyLDAvis/js/ldavis.v3.0.0.js\", function(){\n",
       "        new LDAvis(\"#\" + \"ldavis_el67234130876242082737272201\", ldavis_el67234130876242082737272201_data);\n",
       "      });\n",
       "    });\n",
       "}else{\n",
       "    // require.js not available: dynamically load d3 & LDAvis\n",
       "    LDAvis_load_lib(\"https://d3js.org/d3.v5.js\", function(){\n",
       "         LDAvis_load_lib(\"https://cdn.jsdelivr.net/gh/bmabey/pyLDAvis@3.4.0/pyLDAvis/js/ldavis.v3.0.0.js\", function(){\n",
       "                 new LDAvis(\"#\" + \"ldavis_el67234130876242082737272201\", ldavis_el67234130876242082737272201_data);\n",
       "            })\n",
       "         });\n",
       "}\n",
       "</script>"
      ],
      "text/plain": [
       "<IPython.core.display.HTML object>"
      ]
     },
     "execution_count": 30,
     "metadata": {},
     "output_type": "execute_result"
    }
   ],
   "source": [
    "pyLDAvis.display(lda_display)"
   ]
  },
  {
   "attachments": {},
   "cell_type": "markdown",
   "id": "a3d14c87",
   "metadata": {},
   "source": [
    "Q: What conclusions do you draw from the visualization above? Please address the principal component scatterplot and the salient terms graph.\n",
    "\n",
    "A: The scatterplot shows that the five topics are pretty distinct from each other, with minimal overlap, so the model separated themes well. The bar chart highlights the most common and meaningful words in each topic (like state, mrs, and said) giving a good sense of what each topic represents. Overall, it confirms the LDA model captured clear, interpretable themes across the corpus.\n"
   ]
  }
 ],
 "metadata": {
  "kernelspec": {
   "display_name": ".venv",
   "language": "python",
   "name": ".venv"
  },
  "language_info": {
   "codemirror_mode": {
    "name": "ipython",
    "version": 3
   },
   "file_extension": ".py",
   "mimetype": "text/x-python",
   "name": "python",
   "nbconvert_exporter": "python",
   "pygments_lexer": "ipython3",
   "version": "3.9.6"
  }
 },
 "nbformat": 4,
 "nbformat_minor": 5
}
